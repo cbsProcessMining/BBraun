{
 "cells": [
  {
   "cell_type": "markdown",
   "metadata": {},
   "source": [
    "## Transformation (DataJob) Mover"
   ]
  },
  {
   "cell_type": "markdown",
   "metadata": {},
   "source": [
    "**This tutorial shows how to copy transformations from one team/ data pool to another one, independent of the cluster.**\n",
    "\n"
   ]
  },
  {
   "cell_type": "markdown",
   "metadata": {},
   "source": [
    "**To do so we first need to connect to the source data job.**"
   ]
  },
  {
   "cell_type": "code",
   "execution_count": 68,
   "metadata": {},
   "outputs": [
    {
     "name": "stdout",
     "output_type": "stream",
     "text": [
      "2020-10-12 12:06:17 - pycelonis: Login successful! Hello Willy Thich\n"
     ]
    }
   ],
   "source": [
    "from pycelonis import get_celonis\n",
    "\n",
    "c_source = get_celonis(\"https://bbraun.eu-3.celonis.cloud\", \"YOUR_API_KEY\")\n",
    "source_data_pool = c_source.pools.find(\"84e038a2-32f6-4730-8274-d1b8947e6e36\")\n",
    "source_data_job = source_data_pool.data_jobs.find(\"d7b05295-26c3-408a-97e4-efacacb6a0e8\")"
   ]
  },
  {
   "cell_type": "markdown",
   "metadata": {},
   "source": [
    "**In the next step we connect to the target data job.**"
   ]
  },
  {
   "cell_type": "code",
   "execution_count": 69,
   "metadata": {},
   "outputs": [
    {
     "name": "stdout",
     "output_type": "stream",
     "text": [
      "2020-10-12 12:06:19 - pycelonis: Login successful! Hello Willy Thich\n"
     ]
    }
   ],
   "source": [
    "c_target = get_celonis(\"https://bbraun.eu-3.celonis.cloud\", \"YOUR_API_KEY\")\n",
    "target_data_pool = c_target.pools.find(\"d1b99aa8-5ded-4410-b2bc-9659f9d53ba6\")\n",
    "target_data_job = target_data_pool.data_jobs.find(\"f8595c82-fcd5-4a96-9a67-1382ca2fe2e9\")"
   ]
  },
  {
   "cell_type": "markdown",
   "metadata": {},
   "source": [
    "**In this step we save all source global parameter IDs in a dictionary and overwrite them with the target global parameter ID if the parameter exists already in the target data pool.**"
   ]
  },
  {
   "cell_type": "code",
   "execution_count": 70,
   "metadata": {},
   "outputs": [
    {
     "name": "stdout",
     "output_type": "stream",
     "text": [
      "Global parameter configurations saved.\n"
     ]
    }
   ],
   "source": [
    "global_vars = {}\n",
    "for source_var in source_data_pool.variables:                                                          # loop through global parameters of source data pool\n",
    "    global_vars.update({source_var.id: None})                                                          # save ID of source global parameter\n",
    "    for target_var in target_data_pool.variables:                                                      # loop through the global parameters of target data pool\n",
    "        if source_var.data['placeholder'].upper() == target_var.data['placeholder'].upper():           # if the placeholder of a source global parameter and a target global parameter match\n",
    "            global_vars.update({source_var.id: target_var.id})                                         # match the saved ID of source global parameter wih the target global parameter ID\n",
    "print(\"Global parameter configurations saved.\")"
   ]
  },
  {
   "cell_type": "markdown",
   "metadata": {},
   "source": [
    "**This section serves to create the target transformation, the related transformation parameters and to copy over the template settings.**"
   ]
  },
  {
   "cell_type": "code",
   "execution_count": 71,
   "metadata": {},
   "outputs": [
    {
     "name": "stdout",
     "output_type": "stream",
     "text": [
      "Transformation: 'Create Table: _CEL_QM_ACTIVITIES' created.\n"
     ]
    },
    {
     "ename": "PermissionError",
     "evalue": "You don't have permission to perform post request to https://bbraun.eu-3.celonis.cloud/integration/api/pools/d1b99aa8-5ded-4410-b2bc-9659f9d53ba6/templates/4deeff77-1975-40af-b12e-e59a7f2daa88/protection.",
     "output_type": "error",
     "traceback": [
      "\u001b[0;31m---------------------------------------------------------------------------\u001b[0m",
      "\u001b[0;31mPermissionError\u001b[0m                           Traceback (most recent call last)",
      "\u001b[0;32m<ipython-input-71-f4ddf073399c>\u001b[0m in \u001b[0;36m<module>\u001b[0;34m\u001b[0m\n\u001b[1;32m     32\u001b[0m \u001b[0;34m\u001b[0m\u001b[0m\n\u001b[1;32m     33\u001b[0m     \u001b[0;32mif\u001b[0m\u001b[0;34m(\u001b[0m\u001b[0msource_transformation\u001b[0m\u001b[0;34m.\u001b[0m\u001b[0mdata\u001b[0m\u001b[0;34m[\u001b[0m\u001b[0;34m'template'\u001b[0m\u001b[0;34m]\u001b[0m\u001b[0;34m)\u001b[0m\u001b[0;34m:\u001b[0m                                                                                            \u001b[0;31m# copy template settings to target transformation\u001b[0m\u001b[0;34m\u001b[0m\u001b[0;34m\u001b[0m\u001b[0m\n\u001b[0;32m---> 34\u001b[0;31m         \u001b[0mtarget_transformation\u001b[0m\u001b[0;34m.\u001b[0m\u001b[0mto_template\u001b[0m\u001b[0;34m(\u001b[0m\u001b[0msource_transformation\u001b[0m\u001b[0;34m.\u001b[0m\u001b[0mdata\u001b[0m\u001b[0;34m[\u001b[0m\u001b[0;34m'protectionStatus'\u001b[0m\u001b[0;34m]\u001b[0m\u001b[0;34m)\u001b[0m\u001b[0;34m\u001b[0m\u001b[0;34m\u001b[0m\u001b[0m\n\u001b[0m\u001b[1;32m     35\u001b[0m \u001b[0;34m\u001b[0m\u001b[0m\n\u001b[1;32m     36\u001b[0m     \u001b[0;32mif\u001b[0m\u001b[0;34m(\u001b[0m\u001b[0msource_transformation\u001b[0m\u001b[0;34m.\u001b[0m\u001b[0mdata\u001b[0m\u001b[0;34m[\u001b[0m\u001b[0;34m'disabled'\u001b[0m\u001b[0;34m]\u001b[0m\u001b[0;34m)\u001b[0m\u001b[0;34m:\u001b[0m                                                                                            \u001b[0;31m# copy enable/disable info to target transformation\u001b[0m\u001b[0;34m\u001b[0m\u001b[0;34m\u001b[0m\u001b[0m\n",
      "\u001b[0;32m~/.local/lib/python3.7/site-packages/pycelonis/objects_ibc.py\u001b[0m in \u001b[0;36mto_template\u001b[0;34m(self, protection)\u001b[0m\n\u001b[1;32m   1385\u001b[0m         \u001b[0;32mif\u001b[0m \u001b[0mprotection\u001b[0m \u001b[0;34m!=\u001b[0m \u001b[0;34m\"OPEN\"\u001b[0m\u001b[0;34m:\u001b[0m\u001b[0;34m\u001b[0m\u001b[0;34m\u001b[0m\u001b[0m\n\u001b[1;32m   1386\u001b[0m             self.celonis.api_request(\n\u001b[0;32m-> 1387\u001b[0;31m                 \u001b[0;34mf\"{self.parent.parent.url}/templates/{r['id']}/protection\"\u001b[0m\u001b[0;34m,\u001b[0m \u001b[0;34m{\u001b[0m\u001b[0;34m\"protectionStatus\"\u001b[0m\u001b[0;34m:\u001b[0m \u001b[0mprotection\u001b[0m\u001b[0;34m}\u001b[0m\u001b[0;34m\u001b[0m\u001b[0;34m\u001b[0m\u001b[0m\n\u001b[0m\u001b[1;32m   1388\u001b[0m             )\n\u001b[1;32m   1389\u001b[0m \u001b[0;34m\u001b[0m\u001b[0m\n",
      "\u001b[0;32m~/.local/lib/python3.7/site-packages/pycelonis/api.py\u001b[0m in \u001b[0;36mapi_request\u001b[0;34m(self, url, message, method, timeout, get_json, **extra)\u001b[0m\n\u001b[1;32m     96\u001b[0m         \u001b[0mr\u001b[0m \u001b[0;34m=\u001b[0m \u001b[0mself\u001b[0m\u001b[0;34m.\u001b[0m\u001b[0m_session\u001b[0m\u001b[0;34m.\u001b[0m\u001b[0mrequest\u001b[0m\u001b[0;34m(\u001b[0m\u001b[0;34m**\u001b[0m\u001b[0mkwargs\u001b[0m\u001b[0;34m,\u001b[0m \u001b[0;34m**\u001b[0m\u001b[0mextra\u001b[0m\u001b[0;34m)\u001b[0m\u001b[0;34m\u001b[0m\u001b[0;34m\u001b[0m\u001b[0m\n\u001b[1;32m     97\u001b[0m         \u001b[0;32mif\u001b[0m \u001b[0mr\u001b[0m\u001b[0;34m.\u001b[0m\u001b[0mstatus_code\u001b[0m \u001b[0;32min\u001b[0m \u001b[0;34m[\u001b[0m\u001b[0;36m401\u001b[0m\u001b[0;34m,\u001b[0m \u001b[0;36m403\u001b[0m\u001b[0;34m]\u001b[0m\u001b[0;34m:\u001b[0m\u001b[0;34m\u001b[0m\u001b[0;34m\u001b[0m\u001b[0m\n\u001b[0;32m---> 98\u001b[0;31m             \u001b[0;32mraise\u001b[0m \u001b[0mPermissionError\u001b[0m\u001b[0;34m(\u001b[0m\u001b[0;34mf\"You don't have permission to perform {kwargs['method']} request to {url}.\"\u001b[0m\u001b[0;34m)\u001b[0m\u001b[0;34m\u001b[0m\u001b[0;34m\u001b[0m\u001b[0m\n\u001b[0m\u001b[1;32m     99\u001b[0m         \u001b[0;32mtry\u001b[0m\u001b[0;34m:\u001b[0m\u001b[0;34m\u001b[0m\u001b[0;34m\u001b[0m\u001b[0m\n\u001b[1;32m    100\u001b[0m             \u001b[0mr\u001b[0m\u001b[0;34m.\u001b[0m\u001b[0mraise_for_status\u001b[0m\u001b[0;34m(\u001b[0m\u001b[0;34m)\u001b[0m\u001b[0;34m\u001b[0m\u001b[0;34m\u001b[0m\u001b[0m\n",
      "\u001b[0;31mPermissionError\u001b[0m: You don't have permission to perform post request to https://bbraun.eu-3.celonis.cloud/integration/api/pools/d1b99aa8-5ded-4410-b2bc-9659f9d53ba6/templates/4deeff77-1975-40af-b12e-e59a7f2daa88/protection."
     ]
    }
   ],
   "source": [
    "for source_transformation in source_data_job.transformations.data:   # loop through source transformations\n",
    "    \n",
    "    if source_transformation.statement is None:                      # if the source transformation is empty, it will not be created\n",
    "        continue\n",
    "    \n",
    "    # copy transformation from source to target data job:\n",
    "    target_transformation = target_data_job.create_transformation(name=source_transformation.name, description=source_transformation.data['description'], statement=source_transformation.statement)\n",
    "    print(\"Transformation: '\" + target_transformation.name + \"' created.\")\n",
    "    \n",
    "    for source_local_var in source_transformation.variables:                                                                              # loop through the source transformation parameters\n",
    "        if source_local_var['defaultSettings'] is not None:                                                                               # create the connection for the default value to the target global parameters\n",
    "            if source_local_var['defaultSettings']['poolVariableId'] is not None:                                                                             \n",
    "                target_id = global_vars.get(source_local_var['defaultSettings']['poolVariableId'])\n",
    "                if target_id is None:\n",
    "                    para = target_data_pool.create_pool_parameter(source_data_pool.variables.find(source_local_var['defaultSettings']['poolVariableId']))  # create the target global parameter if it does not exist yet\n",
    "                    print(\"Pool Parameter '\" + para.name + \"' created.\")\n",
    "                    target_id = para.id\n",
    "                    global_vars[source_local_var['defaultSettings']['poolVariableId']] = target_id\n",
    "                source_local_var['defaultSettings']['poolVariableId'] = target_id\n",
    "        if source_local_var['settings'] is not None:                                                                                      # create the connection for the value to the target global parameters \n",
    "            if source_local_var['settings']['poolVariableId'] is not None:\n",
    "                target_id = global_vars.get(source_local_var['settings']['poolVariableId'])\n",
    "                if target_id is None:\n",
    "                    para = target_data_pool.create_pool_parameter(source_data_pool.variables.find(source_local_var['settings']['poolVariableId']))         # create the target global parameter if it does not exist yet\n",
    "                    print(\"Pool Parameter '\" + para.name + \"' created.\")\n",
    "                    target_id = para.id\n",
    "                    global_vars[source_local_var['defaultSettings']['poolVariableId']] = target_id\n",
    "                source_local_var['settings']['poolVariableId'] = target_id\n",
    "\n",
    "        target_transformation.create_transformation_parameter(source_local_var)                                                            # create the target transformation parameter\n",
    "        print(\"Parameter '\" + source_local_var['name'] + \"' created.\")\n",
    "        \n",
    "    if(source_transformation.data['template']):                                                                                            # copy template settings to target transformation\n",
    "        target_transformation.to_template(source_transformation.data['protectionStatus'])\n",
    "        \n",
    "    if(source_transformation.data['disabled']):                                                                                            # copy enable/disable info to target transformation\n",
    "        url = f\"{target_transformation.parent.url}/tasks/{target_transformation.id}/enabled\"\n",
    "        target_transformation.celonis.api_request(url, \"DELETE\")\n",
    "    \n",
    "print(\"Congrats you copied the data job \"+ source_data_job.name + \"!\")"
   ]
  },
  {
   "cell_type": "code",
   "execution_count": null,
   "metadata": {},
   "outputs": [],
   "source": []
  }
 ],
 "metadata": {
  "jupytext": {
   "formats": "ipynb,py:percent"
  },
  "kernelspec": {
   "display_name": "Python 3",
   "language": "python",
   "name": "python3"
  },
  "language_info": {
   "codemirror_mode": {
    "name": "ipython",
    "version": 3
   },
   "file_extension": ".py",
   "mimetype": "text/x-python",
   "name": "python",
   "nbconvert_exporter": "python",
   "pygments_lexer": "ipython3",
   "version": "3.7.6"
  }
 },
 "nbformat": 4,
 "nbformat_minor": 4
}
