{
 "cells": [
  {
   "cell_type": "markdown",
   "metadata": {},
   "source": [
    "## Table List in Pools"
   ]
  },
  {
   "cell_type": "markdown",
   "metadata": {},
   "source": [
    "**This tutorial shows how to list tables that exist in one data pool.**\n"
   ]
  },
  {
   "cell_type": "markdown",
   "metadata": {},
   "source": [
    "**In the first step we need to connect to the target data job and specify the inputs.**"
   ]
  },
  {
   "cell_type": "code",
   "execution_count": 38,
   "metadata": {},
   "outputs": [
    {
     "name": "stdout",
     "output_type": "stream",
     "text": [
      "2020-10-07 07:26:59 - pycelonis: Login successful! Hello Application Key, this key currently has access to 549 analyses.\n"
     ]
    }
   ],
   "source": [
    "from pycelonis import get_celonis\n",
    "import os\n",
    "import pandas as pd\n",
    "\n",
    "c = get_celonis(\"https://bbraun.eu-3.celonis.cloud\", \"MmNjYzZiMzctZDhhOS00ZDRlLTkxZWMtYzg2NDM5NjUzN2E4OkgrSExiaWtiQWsvbWRkOU0zTEltVXlPMmdGUkZLajROa2diYytBVlZXa3lu\")\n",
    "\n",
    "pool_name = \"SAP ERP\"\n",
    "pool = c.pools.find(pool_name)"
   ]
  },
  {
   "cell_type": "markdown",
   "metadata": {},
   "source": [
    "**Search for the tables in the specified pool.**"
   ]
  },
  {
   "cell_type": "code",
   "execution_count": 39,
   "metadata": {},
   "outputs": [],
   "source": [
    "tables = []\n",
    "for schema in pool.tables:\n",
    "    tables.append([schema[\"dataSourceName\"], schema[\"type\"], schema[\"name\"]])\n",
    "    \n",
    "tables_df = pd.DataFrame(tables, columns=[\"DataSource\", \"Type\", \"Name\"])\n",
    "\n",
    "output_name = \"tables - \" + pool_name + \".xlsx\"\n",
    "with pd.ExcelWriter(output_name) as writer:\n",
    "    tables_df.to_excel(writer, sheet_name='Columns', index=False)"
   ]
  }
 ],
 "metadata": {
  "jupytext": {
   "formats": "ipynb,py:percent"
  },
  "kernelspec": {
   "display_name": "Python 3",
   "language": "python",
   "name": "python3"
  },
  "language_info": {
   "codemirror_mode": {
    "name": "ipython",
    "version": 3
   },
   "file_extension": ".py",
   "mimetype": "text/x-python",
   "name": "python",
   "nbconvert_exporter": "python",
   "pygments_lexer": "ipython3",
   "version": "3.7.6"
  }
 },
 "nbformat": 4,
 "nbformat_minor": 4
}
