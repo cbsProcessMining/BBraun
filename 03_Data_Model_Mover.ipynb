{
 "cells": [
  {
   "cell_type": "markdown",
   "metadata": {},
   "source": [
    "# Data Model Mover"
   ]
  },
  {
   "cell_type": "markdown",
   "metadata": {},
   "source": [
    "**This tutorial shows how to copy a data model from one team/ data pool to another one, independent of the cluster.**\n",
    "\n"
   ]
  },
  {
   "cell_type": "markdown",
   "metadata": {},
   "source": [
    "**To do so we first need to connect to the source data model.**"
   ]
  },
  {
   "cell_type": "code",
   "execution_count": 9,
   "metadata": {},
   "outputs": [
    {
     "name": "stdout",
     "output_type": "stream",
     "text": [
      "2020-10-15 19:23:52 - pycelonis: Login successful! Hello Willy Thich\n"
     ]
    }
   ],
   "source": [
    "from pycelonis import get_celonis\n",
    "\n",
    "c_source = get_celonis(\"https://bbraun.eu-3.celonis.cloud\", \"MzJlM2FiNmQtODRhZS00OTQ0LTlkNTEtMzg3ZjdkOGFjZTFjOjFXNTNnaUJ6YVdDbkdlQUFTUTZsa0JNOER4dUJ4Q3pyanJPUXNONmFwQU1p\")\n",
    "source_data_model = c_source.datamodels.find(\"8fd104c3-e01e-44ea-a2dd-022f5d551854\") "
   ]
  },
  {
   "cell_type": "markdown",
   "metadata": {},
   "source": [
    "**In the next step we connect to the target data pool.**"
   ]
  },
  {
   "cell_type": "code",
   "execution_count": 10,
   "metadata": {},
   "outputs": [
    {
     "name": "stdout",
     "output_type": "stream",
     "text": [
      "2020-10-15 19:23:59 - pycelonis: Login successful! Hello Willy Thich\n"
     ]
    }
   ],
   "source": [
    "c_target = get_celonis(\"https://bbraun.eu-3.celonis.cloud\", \"MzJlM2FiNmQtODRhZS00OTQ0LTlkNTEtMzg3ZjdkOGFjZTFjOjFXNTNnaUJ6YVdDbkdlQUFTUTZsa0JNOER4dUJ4Q3pyanJPUXNONmFwQU1p\")\n",
    "target_data_pool = c_target.pools.find(\"d1b99aa8-5ded-4410-b2bc-9659f9d53ba6\")\n",
    "data_source_name = \"\""
   ]
  },
  {
   "cell_type": "markdown",
   "metadata": {},
   "source": [
    "**Create the data model and add the tables.**"
   ]
  },
  {
   "cell_type": "code",
   "execution_count": 11,
   "metadata": {},
   "outputs": [],
   "source": [
    "if source_data_model.name in target_data_pool.datamodels.names:\n",
    "    print('A data model with the same name does already exist in the target data pool. Please rename one.')\n",
    "else: \n",
    "    target_data_model = target_data_pool.create_datamodel(source_data_model.name)                         # create target data model\n",
    "\n",
    "    connection = target_data_pool.data_connections.names[data_source_name] if data_source_name else None  # choose the connection for the data model \n",
    "\n",
    "    target_data_model.add_tables_from_pool(source_data_model.tables, connection)                          # add the tables from the connection to the data model"
   ]
  },
  {
   "cell_type": "markdown",
   "metadata": {},
   "source": [
    "**Copy Activity & Case table settings. If you copy to a data pool that does not contain the case and activity table in the specified connection, this step cannot be performed. Just continue with the next one.**"
   ]
  },
  {
   "cell_type": "code",
   "execution_count": 12,
   "metadata": {},
   "outputs": [
    {
     "data": {
      "text/plain": [
       "[<DatamodelProcessConfiguration, id b387e7c0-6b81-474a-9f0e-1dd267b0bebf, name Unnamed object with ID: b387e7c0-6b81-474a-9f0e-1dd267b0bebf>,]"
      ]
     },
     "execution_count": 12,
     "metadata": {},
     "output_type": "execute_result"
    }
   ],
   "source": [
    "target_data_model.create_process_configuration(\n",
    "            activity_table=source_data_model.process_configurations[0].activity_table.data[\"name\"] if source_data_model.process_configurations[0].activity_table else None,\n",
    "            case_table=source_data_model.process_configurations[0].case_table.data[\"name\"] if source_data_model.process_configurations[0].case_table else None,\n",
    "            case_column=source_data_model.process_configurations[0].case_column if source_data_model.process_configurations[0].activity_table else None,\n",
    "            activity_column=source_data_model.process_configurations[0].activity_column if source_data_model.process_configurations[0].activity_table else None,\n",
    "            timestamp_column=source_data_model.process_configurations[0].timestamp_column if source_data_model.process_configurations[0].activity_table else None,\n",
    "            sorting_column=source_data_model.process_configurations[0].sorting_column if source_data_model.process_configurations[0].activity_table else None)"
   ]
  },
  {
   "cell_type": "markdown",
   "metadata": {},
   "source": [
    "**Add forgein key relationships.**"
   ]
  },
  {
   "cell_type": "code",
   "execution_count": 13,
   "metadata": {},
   "outputs": [
    {
     "name": "stdout",
     "output_type": "stream",
     "text": [
      "Relationships copied.\n"
     ]
    }
   ],
   "source": [
    "for fk in source_data_model.foreign_keys:\n",
    "    target_data_model.create_foreign_key(fk[\"source_table\"], fk[\"target_table\"], fk[\"columns\"], from_scratch=True)\n",
    "print('Relationships copied.')"
   ]
  },
  {
   "cell_type": "markdown",
   "metadata": {},
   "source": [
    "**Add table aliases.**"
   ]
  },
  {
   "cell_type": "code",
   "execution_count": 14,
   "metadata": {},
   "outputs": [
    {
     "name": "stderr",
     "output_type": "stream",
     "text": [
      "WARNING:pycelonis:More things might have changed than requested\n",
      "WARNING:pycelonis:More things might have changed than requested\n",
      "WARNING:pycelonis:More things might have changed than requested\n",
      "WARNING:pycelonis:More things might have changed than requested\n",
      "WARNING:pycelonis:More things might have changed than requested\n",
      "WARNING:pycelonis:More things might have changed than requested\n",
      "WARNING:pycelonis:More things might have changed than requested\n",
      "WARNING:pycelonis:More things might have changed than requested\n",
      "WARNING:pycelonis:More things might have changed than requested\n",
      "WARNING:pycelonis:More things might have changed than requested\n",
      "WARNING:pycelonis:More things might have changed than requested\n",
      "WARNING:pycelonis:More things might have changed than requested\n",
      "WARNING:pycelonis:More things might have changed than requested\n",
      "WARNING:pycelonis:More things might have changed than requested\n",
      "WARNING:pycelonis:More things might have changed than requested\n"
     ]
    },
    {
     "name": "stdout",
     "output_type": "stream",
     "text": [
      "Please ignore the warnings. Congrats you copied the data model 'SAP DEB - Warehouse Management Data Model'!\n"
     ]
    }
   ],
   "source": [
    "import pycelonis\n",
    "for t in source_data_model.tables:\n",
    "    if t.alias == t.name and isinstance(source_data_model, pycelonis.objects_ibc.Datamodel):\n",
    "        target_t = target_data_model.tables.find(t.data[\"name\"])\n",
    "        try:\n",
    "            target_t.alias = t.name\n",
    "        except ValueError:\n",
    "            pass\n",
    "#    if t.alias != t.name and isinstance(source_data_model, pycelonis.objects_cpm4.Datamodel):\n",
    "#        target_t = target_data_model.tables.find(t.data[\"name\"])\n",
    "#        try:\n",
    "#            target_t.alias = t.alias\n",
    "#        except ValueError:\n",
    "#            pass\n",
    "print(\"Please ignore the warnings. Congrats you copied the data model '\"+ target_data_model.name + \"'!\")"
   ]
  },
  {
   "cell_type": "code",
   "execution_count": null,
   "metadata": {},
   "outputs": [],
   "source": []
  }
 ],
 "metadata": {
  "jupytext": {
   "formats": "ipynb,py:percent"
  },
  "kernelspec": {
   "display_name": "Python 3",
   "language": "python",
   "name": "python3"
  },
  "language_info": {
   "codemirror_mode": {
    "name": "ipython",
    "version": 3
   },
   "file_extension": ".py",
   "mimetype": "text/x-python",
   "name": "python",
   "nbconvert_exporter": "python",
   "pygments_lexer": "ipython3",
   "version": "3.7.6"
  }
 },
 "nbformat": 4,
 "nbformat_minor": 4
}
