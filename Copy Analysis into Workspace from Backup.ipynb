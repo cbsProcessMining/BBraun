# step 1: Die Verbindung mit Celonis herstellen
from pycelonis import get_celonis

celonis = get_celonis()


#Welche Workspaces sind vorhanden 

celonis.workspaces


# step 2: eine Verbindung zum Arbeitsbereich Ihrer Wahl herstellen
workspace = celonis.workspaces.find('7109ccb3-ebea-410a-9546-da136d69de9e')


# step 3: Neue Analyse erstellen & wiederherstellen:
workspace.create_analysis(name = 'Test', content_backup = 'test/analysis_94fe9e71-a5f9-480d-bf2b-f31a22b16943.json')
