{
 "cells": [
  {
   "cell_type": "markdown",
   "metadata": {},
   "source": [
    "## Use case: Create text-based backups of analyses and transformations (for git)"
   ]
  },
  {
   "cell_type": "code",
   "execution_count": null,
   "metadata": {},
   "outputs": [],
   "source": [
    "#To get a copy of this notebook in your current working dirtectory, run:\n",
    "from pycelonis import notebooks"
   ]
  },
  {
   "cell_type": "markdown",
   "metadata": {},
   "source": [
    "**The code backs up all analyses and transformations into a backup folder, the user only needs to provide a Celonis object and a folder.**\n",
    "\n",
    "### Do imports, log in to the Celonis instance, create backup folder:"
   ]
  },
  {
   "cell_type": "code",
   "execution_count": 1,
   "metadata": {},
   "outputs": [
    {
     "name": "stdout",
     "output_type": "stream",
     "text": [
      "2019-10-08 15:36:00 - Login successful! Hello Simon Riezebos\n"
     ]
    }
   ],
   "source": [
    "from pycelonis import get_celonis\n",
    "import shutil\n",
    "from pathlib import Path\n",
    "from pycelonis.utils.api_utils import pathify\n",
    "\n",
    "celonis = get_celonis(read_only=True)\n",
    "backup_path = Path('IBC Backup')\n",
    "if not backup_path.exists():\n",
    "    backup_path.mkdir()"
   ]
  },
  {
   "cell_type": "markdown",
   "metadata": {},
   "source": [
    "### Create or clean analyses backup folder"
   ]
  },
  {
   "cell_type": "code",
   "execution_count": 3,
   "metadata": {},
   "outputs": [],
   "source": [
    "analyses_path = backup_path / \"Analyses\"\n",
    "if analyses_path.exists():\n",
    "    shutil.rmtree(analyses_path)\n",
    "analyses_path.mkdir()"
   ]
  },
  {
   "cell_type": "markdown",
   "metadata": {},
   "source": [
    "### Create backups of all analyses that are published in separate workspace directories"
   ]
  },
  {
   "cell_type": "code",
   "execution_count": 4,
   "metadata": {},
   "outputs": [],
   "source": [
    "for workspace in celonis.workspaces:\n",
    "    workspace_path = analyses_path / pathify(workspace.name)\n",
    "    workspace_path.mkdir()\n",
    "    for a in workspace.analyses:\n",
    "        if a.data.get('lastPublishedDraftId') is not None:\n",
    "            a.backup_content(workspace_path)"
   ]
  },
  {
   "cell_type": "markdown",
   "metadata": {},
   "source": [
    "### (Optional) Remove all draft files to only see published changes"
   ]
  },
  {
   "cell_type": "code",
   "execution_count": 5,
   "metadata": {},
   "outputs": [],
   "source": [
    "for path in analyses_path.rglob('*'):\n",
    "    if path.name.startswith(\"draft\") and path.suffix == \".json\":\n",
    "        path.unlink()"
   ]
  },
  {
   "cell_type": "markdown",
   "metadata": {},
   "source": [
    "### Create or clean transformation backup folder"
   ]
  },
  {
   "cell_type": "code",
   "execution_count": 4,
   "metadata": {},
   "outputs": [],
   "source": [
    "transformation_path = backup_path / \"Transformations\"\n",
    "if transformation_path.exists():\n",
    "    shutil.rmtree(transformation_path)\n",
    "transformation_path.mkdir()"
   ]
  },
  {
   "cell_type": "markdown",
   "metadata": {},
   "source": [
    "### Create backups of all transformations in separate Pool and Data Job directories"
   ]
  },
  {
   "cell_type": "code",
   "execution_count": 5,
   "metadata": {},
   "outputs": [],
   "source": [
    "for pool in celonis.pools:\n",
    "    pool_path = transformation_path / pathify(pool.name)\n",
    "    pool_path.mkdir()\n",
    "    for job in pool.data_jobs:\n",
    "        job_path = pool_path / pathify(job.name)\n",
    "        job_path.mkdir()\n",
    "        for tm in job.transformations:\n",
    "            try:\n",
    "                tm.backup_content(job_path)\n",
    "            except:\n",
    "                pass"
   ]
  },
  {
   "cell_type": "markdown",
   "metadata": {},
   "source": [
    "### (Optional) Inititate git repo\n",
    "Navigate to the back_path on the command line, run:\n",
    "```\n",
    "git init\n",
    "git add .\n",
    "git commit -m \"Activating version control\"\n",
    "```\n",
    "When you re-run this notebook all changes will be easy to inspect, and can be committed again"
   ]
  }
 ],
 "metadata": {
  "jupytext": {
   "formats": "ipynb,py:percent"
  },
  "kernelspec": {
   "display_name": "Python 3",
   "language": "python",
   "name": "python3"
  },
  "language_info": {
   "codemirror_mode": {
    "name": "ipython",
    "version": 3
   },
   "file_extension": ".py",
   "mimetype": "text/x-python",
   "name": "python",
   "nbconvert_exporter": "python",
   "pygments_lexer": "ipython3",
   "version": "3.7.6"
  }
 },
 "nbformat": 4,
 "nbformat_minor": 4
}
