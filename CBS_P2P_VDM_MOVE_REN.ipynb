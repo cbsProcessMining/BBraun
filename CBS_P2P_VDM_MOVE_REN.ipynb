{
 "cells": [
  {
   "cell_type": "code",
   "execution_count": 8,
   "metadata": {},
   "outputs": [
    {
     "name": "stdout",
     "output_type": "stream",
     "text": [
      "2021-02-04 09:19:14 - pycelonis: Login successful! Hello Josef.rieger@cbs-consulting.de\n"
     ]
    }
   ],
   "source": [
    "from pycelonis import get_celonis\n",
    "URL = \n",
    "API_KEY = 'Yzc4ZGI1ZTktNDA3MC00M2M2LWI3NzEtZjZjNTg3ZGRkOTQ0OnBzNmhyeS9JcTYrK1lLV0hVeWRkeWhjdmx0ZkxPSldVNitweEh4WWg1a081'\n",
    "\n",
    "c_source = get_celonis(URL, API_KEY)\n",
    "\n",
    "\n"
   ]
  },
  {
   "cell_type": "code",
   "execution_count": 2,
   "metadata": {},
   "outputs": [
    {
     "name": "stdout",
     "output_type": "stream",
     "text": [
      "2021-02-05 08:10:57 - pycelonis: Login successful! The Application Key currently has access to 689 Analyses and to 5 Data Pools.\n"
     ]
    }
   ],
   "source": [
    "from pycelonis import get_celonis\n",
    "c_source = get_celonis()"
   ]
  },
  {
   "cell_type": "code",
   "execution_count": 8,
   "metadata": {},
   "outputs": [
    {
     "data": {
      "text/plain": [
       "[<DataJob, id c721c26d-5074-49b8-8ad0-63ede98edf82, name CBS USA_T07 - PP - Production Planning>,\n",
       "<DataJob, id 3e3b31aa-bd6d-4b96-b137-3ee3b9b2aecc, name XXA_T06 - AP + VIM Consolidated Model>,\n",
       "<DataJob, id 03225093-2bea-497d-a0ea-d6398f04613a, name PLAYGROUND>,\n",
       "<DataJob, id 565e3314-88d7-4143-bfae-22161606c44a, name BRA_T06 - AP + VIM Consolidated Model>,\n",
       "<DataJob, id 88b9bf17-9537-439d-a6ab-6137c0ab7036, name DEA_T06 - AP + VIM Consolidated Model>,\n",
       "<DataJob, id 09622264-0e5c-484c-a8a7-920b46d8ac45, name USA_T06 - AP + VIM Consolidated Model>,\n",
       "<DataJob, id 7b0dc6cf-16be-466d-8d09-1391e903fb78, name CBS USA_T04 - P2P - Purchase to Pay>,\n",
       "<DataJob, id 9289a5bd-ff0f-4d05-afe2-b87eb114be05, name CBS USA_T03 - O2C - Order to Cash>,\n",
       "<DataJob, id 313859ce-61c6-470d-835a-2e78ec67d406, name BRA_T01 - AP - Accounts Payable>,\n",
       "<DataJob, id f9c80ef4-6663-433a-823a-d23aa6b923db, name BRA_E01 - Big Tables delta>,\n",
       "<DataJob, id ba36fd67-3523-4799-a3fc-8827657f2635, name XXA_T03 - O2C - Order to Cash>,\n",
       "<DataJob, id 2515a982-2136-4c7b-98fe-ecbb486d609a, name XXA_T08 - WM - Warehouse Management>,\n",
       "<DataJob, id 88c31c99-f988-436e-ac1b-d661636e55a3, name XXA_T07 - PP - Production Planning>,\n",
       "<DataJob, id dbc1c899-ce10-48c3-898f-98a15df246de, name XXA_T05 - VIM - Vendor Invoice Management>,\n",
       "<DataJob, id d38b1fb4-7753-4167-902b-6d86d0bd8b53, name MYA_T02 - AR - Account Receivable>,\n",
       "<DataJob, id 75edf833-8c1d-42b4-8081-e74d66a3b968, name MYA_T01 - AP - Accounts Payable>,\n",
       "<DataJob, id 0f72e7f7-2ef9-4718-9e3e-a037dd1399fe, name DEA_T00 - Preparation>,\n",
       "<DataJob, id a0fce619-aa0a-4c7c-ad28-acf0ae7416a6, name MYA_T04 - P2P - Purchase to Pay>,\n",
       "<DataJob, id dae5bc9a-5e76-483d-a370-af396823fe1a, name MYA_T00_DELTA_LOAD_HELPER_TABLE>,\n",
       "<DataJob, id b777a0e2-c69c-4fbd-946d-f894e46b507c, name DEA_T00_DELTA_LOAD_HELPER_TABLE>,\n",
       "<DataJob, id 6bc4da38-d603-4e0f-a50b-d8e99773db1e, name BRA_T00_DELTA_LOAD_HELPER_TABLE>,\n",
       "<DataJob, id 267db422-8a08-4606-9833-23a814b4c990, name MYA_T03 - O2C - Order to Cash>,\n",
       "<DataJob, id 1a801333-e9df-4afe-af3d-304934107ece, name CBS DEA_T04 - P2P - Purchase to Pay>,\n",
       "<DataJob, id 4c6bc134-6c86-4f74-bc5f-70b22c8d6521, name XXA_P01 - Permissions>,\n",
       "<DataJob, id 0b75bfb8-c824-4924-9b5c-651389f60769, name MYA_ED1 - Delta Extractions>,\n",
       "<DataJob, id 76994c3d-c442-4c89-93cb-21999b87158a, name MYA_T06 - AP + VIM Consolidated Model>,\n",
       "<DataJob, id 66f2eece-937e-4628-92a0-36ec52453c40, name XXA_T02 - AR - Accounts Receivable>,\n",
       "<DataJob, id f75151f4-6a15-4d26-9125-34899226c71b, name USA_T02 - AR - Account Receivable>,\n",
       "<DataJob, id 03238aa4-76f9-43fa-81bc-a150ea5a84b2, name USA_E01 - Big Tables>,\n",
       "<DataJob, id c5a4194e-a215-4fa8-a1dd-a0998a816089, name MYA_E01 - Big Tables>,\n",
       "<DataJob, id 8cbcebc5-f75c-4d67-9d9d-d64f48371a99, name BRA_E01 - Big Tables>,\n",
       "<DataJob, id af52e18e-a6ae-45e8-9492-04e7606c3e24, name USA_E01 - Big Tables delta>,\n",
       "<DataJob, id 4e2a3562-a39a-4762-abff-a2f641deb11a, name CBS BRA_T04 - P2P - Purchase to Pay>,\n",
       "<DataJob, id 0cbb9ee0-df37-4ede-ae86-2f5174e502d8, name CBS MYA_T04 - P2P - Purchase to Pay>,\n",
       "<DataJob, id 6e754eff-4457-46ae-b421-27a2aff9ef69, name USA_E02 - Transactionals Tables>,\n",
       "<DataJob, id b911bf5f-4e38-48fa-943c-2553f35f4c6f, name MYA_E02 - Transactionals Tables>,\n",
       "<DataJob, id 4484a94e-8011-432b-9c1f-6b47a8793cea, name MYA_E03 - Master Data Tables>,\n",
       "<DataJob, id 9b6cb9ca-9482-4b6a-b904-9a98ecf23e54, name DEA_E01 - Big Tables>,\n",
       "<DataJob, id 56cbb59c-cf3e-4dcd-bf84-e0977165cfb6, name BRA_T05 - VIM - Vendor Invoice Management>,\n",
       "<DataJob, id 16173603-0b43-4a33-b799-6c9255d3457a, name USA_T01 - AP - Accounts Payable>,\n",
       "<DataJob, id cfbc1580-889f-4de8-8ff2-3d7b166aad88, name DEA_T01 - AP - Accounts Payable>,\n",
       "<DataJob, id c708dcd3-af0d-46fa-9543-4a04ca896549, name USA_T00 - Preparation>,\n",
       "<DataJob, id 890970d0-0828-47c9-a350-c1ea0e714bab, name MYA_T00 - Preparation>,\n",
       "<DataJob, id ac0b8149-6c88-4b14-857d-309589be4707, name BRA_T00 - Preparation>,\n",
       "<DataJob, id a5f2ac70-067b-43a9-872f-de8ad0a169ec, name XXA - Unify Tables>,\n",
       "<DataJob, id 8a12d381-509a-4874-a7f6-cf6100b38a9e, name DEA_T02 - AR - Account Receivable>,\n",
       "<DataJob, id d518d32a-2393-4a6b-b342-f635eeec8344, name XXA_T01 - AP - Accounts Payable>,\n",
       "<DataJob, id 842080ce-cf87-45d4-bcf4-21ed9dc9dded, name USA_T07 - PP - Production Planning>,\n",
       "<DataJob, id 37d1fd09-7198-4706-93b6-d935748fd505, name USA_T04 - P2P - Purchase to Pay>,\n",
       "<DataJob, id 32c2ef9c-ab3d-4ea1-a1ef-a4a9b554385f, name USA_T03 - O2C - Order to Cash>,\n",
       "<DataJob, id a2e1b01e-9269-48be-85de-90a19de46855, name XXA_T04 - P2P - Purchase 2 Pay>,\n",
       "<DataJob, id 14834b5e-1eac-4eec-8f5a-d1f223f11d6f, name DEA_T03 - O2C - Order to Cash>,\n",
       "<DataJob, id d9e8d6e6-904f-41f4-bd43-9290b1adebc2, name BRA_T08 - WM - Warehouse Management>,\n",
       "<DataJob, id 8df4982c-f958-4788-aa19-a962c193fec0, name DEA_T08 - WM - Warehouse Management>,\n",
       "<DataJob, id 35fd6b3f-a7d3-4dab-9f9f-2ba2d3291e9c, name DEA_T05 - VIM - Vendor Invoice Management>,\n",
       "<DataJob, id bdb61f6c-1bce-41b9-a7ac-71ba148f3900, name MYA_T07 - PP - Production Planning>,\n",
       "<DataJob, id 58de1bce-de17-4b80-b380-51f87f89c239, name MYA_T05 - VIM - Vendor Invoice Management>,\n",
       "<DataJob, id 6591a480-6812-49fd-9936-51334d5f46ed, name CBS O2C Unify>,\n",
       "<DataJob, id 667e5378-f7e2-489d-81ff-b8036d07627f, name MYA_T08 - WM - Warehouse Management>,\n",
       "<DataJob, id 43a4aad6-317e-4f11-a423-1f2806ec921f, name USA_E03 - Master Data Tables>,\n",
       "<DataJob, id 5d339bac-627d-4f66-ae47-a7e99eb98c6e, name DEA_T04 - P2P - Purchase to Pay>,\n",
       "<DataJob, id 88373ade-e655-489d-8e93-cf5373539c13, name XXA - Global xls configs>,\n",
       "<DataJob, id 2f0cd867-1783-4af4-ad6a-deb41ea21b0d, name DEA_E03 - Master Data Tables>,\n",
       "<DataJob, id d678196a-f540-4354-8c5e-1a70907071c0, name MYA_Z00 - Data Cut Off>,\n",
       "<DataJob, id 18afde5c-8b06-49cc-9b0f-08761d776d3d, name BRA_Z00 - Data Cut Off>,\n",
       "<DataJob, id c1febf42-eb85-468f-bdd6-87b71d659e0d, name DEA_Z00 - Data Cut Off>,\n",
       "<DataJob, id a1bbc49d-c35a-4e4a-8115-6e3ed42495e2, name CBS P2P Unify>,\n",
       "<DataJob, id 32b21bae-a0e4-438a-9f0e-fe9a591cb5fd, name DEA_E02 - Transactionals Tables>,\n",
       "<DataJob, id 50b79ab3-a6fa-44b8-90ce-e2490d963f69, name CBS BRA_T03 - O2C - Order to Cash>,\n",
       "<DataJob, id 232237fe-bf45-44a6-8e82-e8d259777d8c, name CBS DEA_T03 - O2C - Order to Cash>,\n",
       "<DataJob, id 3b2b74c4-d678-4b0d-80f0-d2bfb5a3a9d3, name CBS MYA_T03 - O2C - Order to Cash>,\n",
       "<DataJob, id 7d1cbaff-46e4-4c53-b698-bc13f11bb45d, name BRA_T02 - AR - Account Receivable>,\n",
       "<DataJob, id 4a2b19bc-3ba6-4662-a950-8312d01d9ec1, name DEA_E01 - Big Tables delta>,\n",
       "<DataJob, id b803f550-d620-4130-a631-b18443893b7c, name MYA_E01 - Big Tables delta>,\n",
       "<DataJob, id d35bca7a-99ef-45b4-8da6-9adff58bd392, name TEST>,\n",
       "<DataJob, id 6de0e526-5c21-4dff-9c16-aa4e795000ca, name USA_T00_DELTA_LOAD_HELPER_TABLE>,\n",
       "<DataJob, id 0dbd663f-4198-45f7-bf34-69ebcb617b57, name BRA_E02 - Transactionals Tables>,\n",
       "<DataJob, id e7419d1b-dcec-4810-b7f0-99f7b3eeb626, name BRA_T04 - P2P - Purchase to Pay>,\n",
       "<DataJob, id c1c990d9-d78f-4132-ac02-527db50a66f6, name BRA_E03 - Master Data Tables>,\n",
       "<DataJob, id 635d3766-bbdd-4ac7-b060-e4c5965c7ff8, name DEA_ED1 - Delta Extractions>,\n",
       "<DataJob, id 2cd50f67-6686-42e8-8bb5-3498de48cf40, name USA_ED1 - Delta Extractions>,\n",
       "<DataJob, id 27c64fad-603b-4ab7-bd68-589f13adf39e, name CBS P2P Transformation>,\n",
       "<DataJob, id 7122305e-a921-4184-8217-014989b343fd, name BRA_T07 - PP - Production Planning>,\n",
       "<DataJob, id b9871296-d87c-477b-9d81-4c6ed103f1af, name USA_T08 - WM - Warehouse Management>,\n",
       "<DataJob, id 44a14964-3756-4f7b-b314-72e550ee7381, name MYA_W01 - Weekend Full Load>,\n",
       "<DataJob, id 585b2b2d-f84e-42d0-8d16-34f6a95766dc, name BRA_W01 - Weekend Full Load>,\n",
       "<DataJob, id 05b88195-9a2a-40ae-a9db-973e779ba466, name BRA_T03 - O2C - Order to Cash>,\n",
       "<DataJob, id 3a400970-404e-4f12-b17c-57f897108d65, name BRA_ED1 - Delta Extractions>,\n",
       "<DataJob, id cd37acb0-6fb8-4562-aafb-2b5bf98e23fe, name DEA_T07 - PP - Production Planning>,\n",
       "<DataJob, id 35d2dada-fc58-409f-bda4-b7f72d4d8144, name test2>,\n",
       "<DataJob, id a6a8fe6d-e42e-4b66-b4c8-9064495b6bd1, name USA_T09 - QM - Quality Management>,\n",
       "<DataJob, id f8595c82-fcd5-4a96-9a67-1382ca2fe2e9, name DEA_T09 - QM - Quality Management>,\n",
       "<DataJob, id 011df1a7-0f69-456a-8d52-e49dd2d7708b, name BRA_T09 - QM - Quality Management>,\n",
       "<DataJob, id b22f26a1-c4ec-4c80-b459-86c0749b6a8a, name USA_W01 - Weekend Full Load>,\n",
       "<DataJob, id 9228f565-36a5-4d41-82aa-fd2c527a7dfb, name Test>,\n",
       "<DataJob, id 6e3ae5a3-9368-4af5-8900-8dead5000c65, name USA_Z00 - Data Cut Off>,\n",
       "<DataJob, id 9f846646-d3bd-44ed-9dc8-ab2dd3828cdd, name DEA_W01 - Weekend Full Load>,\n",
       "<DataJob, id 45dd7c4e-eb59-4bd5-9563-b1ddc261cf40, name MYA_T09 - QM - Quality Management>,\n",
       "<DataJob, id 6df5bf02-d1d5-4062-af53-4e8aaa3f779d, name DEA_E03 - Master Data Tables delta>,\n",
       "<DataJob, id 72ff69fd-dfd9-49d3-b08c-c2a5fa0d16ce, name MYA_E03 - Master Data Tables delta>,\n",
       "<DataJob, id 6de80e35-11f1-41f1-b677-f6be1b8dd018, name DEA_T08 - WM - Warehouse Management (Backup)>,\n",
       "<DataJob, id 1b17ceb2-6ba2-45ab-8a3e-5b923fcea101, name BRA_E03 - Master Data Tables delta>,\n",
       "<DataJob, id 34cb24db-48b1-48f0-8273-5e638e14741b, name MYA_E02 - Transactionals Tables delta>,\n",
       "<DataJob, id ce2be7b4-0af8-47c5-9769-4685439fcf23, name DEA_E02 - Transactionals Tables delta>,\n",
       "<DataJob, id 81fea488-40f5-4f3a-86ec-5c98af3f98d4, name XXA_T09 - QM - Quality Management>,\n",
       "<DataJob, id 93165cda-46d8-42f5-ab86-27e1775bdb56, name USA_E03 - Master Data Tables delta>,\n",
       "<DataJob, id 6d1b2fb8-448e-4d97-b4d8-2ef6f443875b, name USA_E02 - Transactionals Tables delta>,\n",
       "<DataJob, id 0b5ed473-1106-4d2c-9ec7-53b76ea067d6, name BRA_E02 - Transactionals Tables delta>,\n",
       "<DataJob, id ff1732c1-8324-47a0-9537-8cd158a0a28e, name test_dup>,]"
      ]
     },
     "execution_count": 8,
     "metadata": {},
     "output_type": "execute_result"
    }
   ],
   "source": [
    "c_source.pools.find('d1b99aa8-5ded-4410-b2bc-9659f9d53ba6').data_jobs"
   ]
  },
  {
   "cell_type": "code",
   "execution_count": 10,
   "metadata": {},
   "outputs": [],
   "source": [
    "source_data_model = c_source.datamodels.find(\"73082236-2586-4c6a-a8ef-da2b80fc8237\")"
   ]
  },
  {
   "cell_type": "code",
   "execution_count": 20,
   "metadata": {},
   "outputs": [
    {
     "name": "stdout",
     "output_type": "stream",
     "text": [
      "2021-02-04 09:24:22 - pycelonis: Login successful! Hello Willy Thich\n"
     ]
    }
   ],
   "source": [
    "c_target = get_celonis(\"https://bbraun.eu-3.celonis.cloud\", \"MzJlM2FiNmQtODRhZS00OTQ0LTlkNTEtMzg3ZjdkOGFjZTFjOjFXNTNnaUJ6YVdDbkdlQUFTUTZsa0JNOER4dUJ4Q3pyanJPUXNONmFwQU1p\")\n",
    "target_data_pool = c_target.pools.find(\"d1b99aa8-5ded-4410-b2bc-9659f9d53ba6\")\n",
    "data_source_name = \"\""
   ]
  },
  {
   "cell_type": "code",
   "execution_count": 22,
   "metadata": {},
   "outputs": [],
   "source": [
    "target_data_model = target_data_pool.create_datamodel(source_data_model.name)    "
   ]
  },
  {
   "cell_type": "code",
   "execution_count": 23,
   "metadata": {},
   "outputs": [
    {
     "name": "stdout",
     "output_type": "stream",
     "text": [
      "Relationships copied.\n"
     ]
    }
   ],
   "source": [
    "for fk in source_data_model.foreign_keys:\n",
    "    try:\n",
    "        target_data_model.create_foreign_key('CBSO_'+fk[\"source_table\"], 'CBSO_'+fk[\"target_table\"], fk[\"columns\"], from_scratch=True)\n",
    "    except:\n",
    "        pass\n",
    "print('Relationships copied.')"
   ]
  },
  {
   "cell_type": "code",
   "execution_count": 24,
   "metadata": {},
   "outputs": [
    {
     "data": {
      "text/plain": [
       "{'source_table': 'CANDIDATES',\n",
       " 'target_table': 'O2C_TVAK',\n",
       " 'columns': [('_TVAK_AUART', 'AUART')]}"
      ]
     },
     "execution_count": 24,
     "metadata": {},
     "output_type": "execute_result"
    }
   ],
   "source": [
    "fk"
   ]
  },
  {
   "cell_type": "code",
   "execution_count": 25,
   "metadata": {},
   "outputs": [
    {
     "name": "stdout",
     "output_type": "stream",
     "text": [
      "2021-02-04 09:28:09 - pycelonis: Best matches: [(0.97, 'CBSO_O2C_VBUP'), (0.97, 'CBSO_O2C_VBRP'), (0.97, 'CBSO_O2C_VBAK')]\n"
     ]
    },
    {
     "name": "stderr",
     "output_type": "stream",
     "text": [
      "WARNING:pycelonis:More things might have changed than requested\n",
      "WARNING:pycelonis:More things might have changed than requested\n",
      "WARNING:pycelonis:More things might have changed than requested\n"
     ]
    },
    {
     "name": "stdout",
     "output_type": "stream",
     "text": [
      "2021-02-04 09:28:11 - pycelonis: Best matches: [(0.97, 'CBSO_O2C_VBRP'), (0.97, 'CBSO_O2C_TVEP'), (0.96, 'CBSO_O2C_TVEPT')]\n"
     ]
    },
    {
     "name": "stderr",
     "output_type": "stream",
     "text": [
      "WARNING:pycelonis:More things might have changed than requested\n",
      "WARNING:pycelonis:More things might have changed than requested\n",
      "WARNING:pycelonis:More things might have changed than requested\n"
     ]
    },
    {
     "name": "stdout",
     "output_type": "stream",
     "text": [
      "2021-02-04 09:28:12 - pycelonis: Best matches: [(0.94, 'CBSO_O2C_VBRK'), (0.94, 'CBSO_O2C_VBKD'), (0.94, 'CBSO_O2C_TVEP')]\n"
     ]
    },
    {
     "name": "stderr",
     "output_type": "stream",
     "text": [
      "WARNING:pycelonis:More things might have changed than requested\n",
      "WARNING:pycelonis:More things might have changed than requested\n",
      "WARNING:pycelonis:More things might have changed than requested\n",
      "WARNING:pycelonis:More things might have changed than requested\n",
      "WARNING:pycelonis:More things might have changed than requested\n",
      "WARNING:pycelonis:More things might have changed than requested\n",
      "WARNING:pycelonis:More things might have changed than requested\n",
      "WARNING:pycelonis:More things might have changed than requested\n",
      "WARNING:pycelonis:More things might have changed than requested\n"
     ]
    },
    {
     "name": "stdout",
     "output_type": "stream",
     "text": [
      "2021-02-04 09:28:14 - pycelonis: Best matches: [(0.93, 'CBSO_O2C_TVAP'), (0.93, 'CBSO_O2C_TVAK'), (0.92, 'CBSO_O2C_TO')]\n"
     ]
    },
    {
     "name": "stderr",
     "output_type": "stream",
     "text": [
      "WARNING:pycelonis:More things might have changed than requested\n"
     ]
    },
    {
     "name": "stdout",
     "output_type": "stream",
     "text": [
      "2021-02-04 09:28:15 - pycelonis: Best matches: [(0.93, 'CBSO_O2C_TVAK'), (0.92, 'CBSO_O2C_TO'), (0.91, 'CBSO_O2C_TVAKT')]\n"
     ]
    },
    {
     "name": "stderr",
     "output_type": "stream",
     "text": [
      "WARNING:pycelonis:More things might have changed than requested\n",
      "WARNING:pycelonis:More things might have changed than requested\n"
     ]
    },
    {
     "name": "stdout",
     "output_type": "stream",
     "text": [
      "2021-02-04 09:28:15 - pycelonis: Best matches: [(0.99, 'CBSO_O2C_TVAKT'), (0.96, 'CBSO_O2C_TVAPT'), (0.94, 'CBSO_O2C_VBKD')]\n"
     ]
    },
    {
     "name": "stderr",
     "output_type": "stream",
     "text": [
      "WARNING:pycelonis:More things might have changed than requested\n"
     ]
    },
    {
     "name": "stdout",
     "output_type": "stream",
     "text": [
      "2021-02-04 09:28:15 - pycelonis: Best matches: [(0.97, 'CBSO_O2C_TVAPT'), (0.94, 'CBSO_O2C_TVEPT'), (0.93, 'CBSO_O2C_VBKD')]\n"
     ]
    },
    {
     "name": "stderr",
     "output_type": "stream",
     "text": [
      "WARNING:pycelonis:More things might have changed than requested\n"
     ]
    },
    {
     "name": "stdout",
     "output_type": "stream",
     "text": [
      "2021-02-04 09:28:16 - pycelonis: Best matches: [(0.97, 'CBSO_O2C_TVEP'), (0.96, 'CBSO_O2C_TVEPT'), (0.92, 'CBSO_O2C_VBFA_V')]\n"
     ]
    },
    {
     "name": "stderr",
     "output_type": "stream",
     "text": [
      "WARNING:pycelonis:More things might have changed than requested\n"
     ]
    },
    {
     "name": "stdout",
     "output_type": "stream",
     "text": [
      "2021-02-04 09:28:16 - pycelonis: Best matches: [(0.97, 'CBSO_O2C_TVEPT'), (0.9, 'CBSO_O2C_VBFA_V'), (0.9, 'CBSO_O2C_VBFA_N')]\n"
     ]
    },
    {
     "name": "stderr",
     "output_type": "stream",
     "text": [
      "WARNING:pycelonis:More things might have changed than requested\n"
     ]
    },
    {
     "name": "stdout",
     "output_type": "stream",
     "text": [
      "2021-02-04 09:28:16 - pycelonis: Best matches: [(0.91, 'CBSO_O2C_VBKD'), (0.91, 'CBSO_O2C_T001'), (0.89, 'CBSO_O2C_VBFA_V')]\n"
     ]
    },
    {
     "name": "stderr",
     "output_type": "stream",
     "text": [
      "WARNING:pycelonis:More things might have changed than requested\n"
     ]
    },
    {
     "name": "stdout",
     "output_type": "stream",
     "text": [
      "2021-02-04 09:28:16 - pycelonis: Best matches: [(0.9, 'CBSO_O2C_T001'), (0.88, 'CBSO_O2C_VBFA_V'), (0.88, 'CBSO_O2C_VBFA_N')]\n"
     ]
    },
    {
     "ename": "AssertionError",
     "evalue": "No result significantly better result to be chosen for _name: CBSO_O2C_TVEPT, or typo in id",
     "output_type": "error",
     "traceback": [
      "\u001b[0;31m---------------------------------------------------------------------------\u001b[0m",
      "\u001b[0;31mAssertionError\u001b[0m                            Traceback (most recent call last)",
      "\u001b[0;32m<ipython-input-25-e29932ce1c4f>\u001b[0m in \u001b[0;36m<module>\u001b[0;34m\u001b[0m\n\u001b[1;32m      2\u001b[0m \u001b[0;32mfor\u001b[0m \u001b[0mt\u001b[0m \u001b[0;32min\u001b[0m \u001b[0msource_data_model\u001b[0m\u001b[0;34m.\u001b[0m\u001b[0mtables\u001b[0m\u001b[0;34m:\u001b[0m\u001b[0;34m\u001b[0m\u001b[0;34m\u001b[0m\u001b[0m\n\u001b[1;32m      3\u001b[0m     \u001b[0;32mif\u001b[0m \u001b[0mt\u001b[0m\u001b[0;34m.\u001b[0m\u001b[0malias\u001b[0m \u001b[0;34m==\u001b[0m \u001b[0mt\u001b[0m\u001b[0;34m.\u001b[0m\u001b[0mname\u001b[0m \u001b[0;32mand\u001b[0m \u001b[0misinstance\u001b[0m\u001b[0;34m(\u001b[0m\u001b[0msource_data_model\u001b[0m\u001b[0;34m,\u001b[0m \u001b[0mpycelonis\u001b[0m\u001b[0;34m.\u001b[0m\u001b[0mobjects_ibc\u001b[0m\u001b[0;34m.\u001b[0m\u001b[0mDatamodel\u001b[0m\u001b[0;34m)\u001b[0m\u001b[0;34m:\u001b[0m\u001b[0;34m\u001b[0m\u001b[0;34m\u001b[0m\u001b[0m\n\u001b[0;32m----> 4\u001b[0;31m         \u001b[0mtarget_t\u001b[0m \u001b[0;34m=\u001b[0m \u001b[0mtarget_data_model\u001b[0m\u001b[0;34m.\u001b[0m\u001b[0mtables\u001b[0m\u001b[0;34m.\u001b[0m\u001b[0mfind\u001b[0m\u001b[0;34m(\u001b[0m\u001b[0;34m'CBSO_'\u001b[0m\u001b[0;34m+\u001b[0m\u001b[0mt\u001b[0m\u001b[0;34m.\u001b[0m\u001b[0mdata\u001b[0m\u001b[0;34m[\u001b[0m\u001b[0;34m\"name\"\u001b[0m\u001b[0;34m]\u001b[0m\u001b[0;34m)\u001b[0m\u001b[0;34m\u001b[0m\u001b[0;34m\u001b[0m\u001b[0m\n\u001b[0m\u001b[1;32m      5\u001b[0m         \u001b[0;32mtry\u001b[0m\u001b[0;34m:\u001b[0m\u001b[0;34m\u001b[0m\u001b[0;34m\u001b[0m\u001b[0m\n\u001b[1;32m      6\u001b[0m             \u001b[0mtarget_t\u001b[0m\u001b[0;34m.\u001b[0m\u001b[0malias\u001b[0m \u001b[0;34m=\u001b[0m \u001b[0mt\u001b[0m\u001b[0;34m.\u001b[0m\u001b[0mname\u001b[0m\u001b[0;34m\u001b[0m\u001b[0;34m\u001b[0m\u001b[0m\n",
      "\u001b[0;32m~/.local/lib/python3.7/site-packages/pycelonis/utils/api_utils.py\u001b[0m in \u001b[0;36mfind\u001b[0;34m(self, id_or_name, default, fuzzy)\u001b[0m\n\u001b[1;32m    205\u001b[0m         \u001b[0;32mif\u001b[0m \u001b[0mscore\u001b[0m \u001b[0;34m<\u001b[0m \u001b[0;36m0.9\u001b[0m\u001b[0;34m:\u001b[0m\u001b[0;34m\u001b[0m\u001b[0;34m\u001b[0m\u001b[0m\n\u001b[1;32m    206\u001b[0m             \u001b[0;32mif\u001b[0m \u001b[0mraise_error\u001b[0m\u001b[0;34m:\u001b[0m\u001b[0;34m\u001b[0m\u001b[0;34m\u001b[0m\u001b[0m\n\u001b[0;32m--> 207\u001b[0;31m                 \u001b[0;32mraise\u001b[0m \u001b[0mAssertionError\u001b[0m\u001b[0;34m(\u001b[0m\u001b[0;34mf\"No result significantly better result to be chosen for {search_by}: {id_or_name}, or typo in id\"\u001b[0m\u001b[0;34m)\u001b[0m\u001b[0;34m\u001b[0m\u001b[0;34m\u001b[0m\u001b[0m\n\u001b[0m\u001b[1;32m    208\u001b[0m             \u001b[0;32mreturn\u001b[0m \u001b[0mdefault\u001b[0m\u001b[0;34m\u001b[0m\u001b[0;34m\u001b[0m\u001b[0m\n\u001b[1;32m    209\u001b[0m         \u001b[0;32mreturn\u001b[0m \u001b[0mid_or_name_dict\u001b[0m\u001b[0;34m[\u001b[0m\u001b[0mbest_match\u001b[0m\u001b[0;34m]\u001b[0m\u001b[0;34m\u001b[0m\u001b[0;34m\u001b[0m\u001b[0m\n",
      "\u001b[0;31mAssertionError\u001b[0m: No result significantly better result to be chosen for _name: CBSO_O2C_TVEPT, or typo in id"
     ]
    }
   ],
   "source": [
    "import pycelonis\n",
    "for t in source_data_model.tables:\n",
    "    if t.alias == t.name and isinstance(source_data_model, pycelonis.objects_ibc.Datamodel):\n",
    "        target_t = target_data_model.tables.find('CBSO_'+t.data[\"name\"])\n",
    "        try:\n",
    "            target_t.alias = t.name\n",
    "        except ValueError:\n",
    "            pass"
   ]
  }
 ],
 "metadata": {
  "kernelspec": {
   "display_name": "Python 3",
   "language": "python",
   "name": "python3"
  },
  "language_info": {
   "codemirror_mode": {
    "name": "ipython",
    "version": 3
   },
   "file_extension": ".py",
   "mimetype": "text/x-python",
   "name": "python",
   "nbconvert_exporter": "python",
   "pygments_lexer": "ipython3",
   "version": "3.7.6"
  }
 },
 "nbformat": 4,
 "nbformat_minor": 4
}
