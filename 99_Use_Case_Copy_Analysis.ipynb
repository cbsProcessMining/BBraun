{
 "cells": [
  {
   "cell_type": "markdown",
   "metadata": {},
   "source": [
    "## Use case: Copy Analysis from one Celonis instance to another (e.g. IBC->CPM4)"
   ]
  },
  {
   "cell_type": "code",
   "execution_count": 1,
   "metadata": {},
   "outputs": [
    {
     "name": "stdout",
     "output_type": "stream",
     "text": [
      "Ignoring 01_Pulling_data.ipynb because file already exists.\n",
      "Ignoring 04_PQL_and_Python_2.ipynb because file already exists.\n",
      "Ignoring 03_PQL_and_Python_1.ipynb because file already exists.\n",
      "Ignoring 02_Pushing_Data.ipynb because file already exists.\n",
      "Ignoring 99_Use_Case_Version_control.ipynb because file already exists.\n",
      "Ignoring 99_Use_Case_Copy_Analysis.ipynb because file already exists.\n",
      "Ignoring 00_Connecting_to_Celonis.ipynb because file already exists.\n"
     ]
    }
   ],
   "source": [
    "#To get a copy of this notebook in your current working dirtectory, run:\n",
    "from pycelonis import notebooks"
   ]
  },
  {
   "cell_type": "markdown",
   "metadata": {},
   "source": [
    "**The code moves an analysis from one cluster to another. The user needs the:**\n",
    "* source_login: The API credentials for the source instance\n",
    "* target_login: The API credentials for the target instance\n",
    "* source_analysis: Analysis name or ID that should be moved from source_instance\n",
    "* target_workspace: Workspace name or ID of target_instance to which the analysis is moved"
   ]
  },
  {
   "cell_type": "code",
   "execution_count": 2,
   "metadata": {},
   "outputs": [],
   "source": [
    "from pycelonis import get_celonis"
   ]
  },
  {
   "cell_type": "markdown",
   "metadata": {},
   "source": [
    "**Login to the source instance and create a Celonis object.**"
   ]
  },
  {
   "cell_type": "code",
   "execution_count": 3,
   "metadata": {},
   "outputs": [
    {
     "name": "stdout",
     "output_type": "stream",
     "text": [
      "2020-08-19 17:17:37 - pycelonis: Login successful! Hello josef.rieger@cbs-consulting.de\n"
     ]
    }
   ],
   "source": [
    "source_login = {\n",
    "    \"celonis_url\": 'https://endresshauser.eu-3.celonis.cloud/',\n",
    "    \"api_token\": 'NDEzZDFkN2YtZjVmZC00MTE0LTg2ODAtNmZlZDM5YzU5YTEwOjBxR0xOSFhjdDQ4MFNDc0V1UDIwbldzNWd2VXFVeUZieCt5MjdzbUhySkRP'\n",
    "}\n",
    "\n",
    "source_instance = get_celonis(**source_login)"
   ]
  },
  {
   "cell_type": "markdown",
   "metadata": {},
   "source": [
    "**Find the analysis you want to move in the source cluster either with the analysis ID or the name of the analysis. Then, create a backup of the analysis. The analysis is stored as a parquet file that can then be uploaded in another cluster.**"
   ]
  },
  {
   "cell_type": "code",
   "execution_count": 98,
   "metadata": {},
   "outputs": [],
   "source": [
    "source_analysis_id = \"50e65a47-99a8-4048-b118-79a6554faaba\"\n",
    "\n",
    "source_analysis = source_instance.analyses.find(source_analysis_id)\n",
    "backup_path = source_analysis.backup_content()"
   ]
  },
  {
   "cell_type": "markdown",
   "metadata": {},
   "source": [
    "**Now, login into the target instance and create a Celonis object.**"
   ]
  },
  {
   "cell_type": "code",
   "execution_count": null,
   "metadata": {},
   "outputs": [],
   "source": [
    "target_login = {\n",
    "    \"celonis_url\": \"http://localhost:9000\",\n",
    "    \"api_token\": \"my_cpm4_api_secret\",\n",
    "    \"api_id\": \"my_cpm4_api_id\",\n",
    "    \"username\": \"my_cpm4_username\"\n",
    "}\n",
    "\n",
    "target_instance = get_celonis(**target_login)"
   ]
  },
  {
   "cell_type": "markdown",
   "metadata": {},
   "source": [
    "**Find workspace in the target cluster in which you want to create the analysis. Alternatively you could search for an analysis that you want to overwrite.**"
   ]
  },
  {
   "cell_type": "code",
   "execution_count": 100,
   "metadata": {},
   "outputs": [
    {
     "name": "stdout",
     "output_type": "stream",
     "text": [
      "No exact match, guessed: <Workspace, id 6f290cd3-8023-447d-95bd-d8668ead2bd4, name Root cause analysis>\n"
     ]
    }
   ],
   "source": [
    "target_folder_name = \"Root Cause Analysis\"\n",
    "dm_name = 'Test Datamodel'\n",
    "dm = target_instance.datamodels.find(dm_name)\n",
    "\n",
    "# Find the target workspace and create the analysis from the backup\n",
    "target_workspace = target_instance.folders.find(target_folder_name)\n",
    "target_workspace.create_analysis(\"temp\", dm, backup_path)"
   ]
  }
 ],
 "metadata": {
  "jupytext": {
   "formats": "ipynb,py:percent"
  },
  "kernelspec": {
   "display_name": "Python 3",
   "language": "python",
   "name": "python3"
  },
  "language_info": {
   "codemirror_mode": {
    "name": "ipython",
    "version": 3
   },
   "file_extension": ".py",
   "mimetype": "text/x-python",
   "name": "python",
   "nbconvert_exporter": "python",
   "pygments_lexer": "ipython3",
   "version": "3.7.3"
  }
 },
 "nbformat": 4,
 "nbformat_minor": 4
}
