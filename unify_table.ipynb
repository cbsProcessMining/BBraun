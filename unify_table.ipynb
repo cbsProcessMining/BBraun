{
 "cells": [
  {
   "cell_type": "code",
   "execution_count": 1,
   "metadata": {},
   "outputs": [
    {
     "name": "stdout",
     "output_type": "stream",
     "text": [
      "2020-03-21 10:08:59 - pycelonis: Login successful! Hello Application Key, this key currently has access to 59 analyses.\n",
      "The union statement has been saved in the global data job \"Unify Tables\" for Table BKPF\n",
      "The union statement has been saved in the global data job \"Unify Tables\" for Table BSEG\n",
      "The union statement has been saved in the global data job \"Unify Tables\" for Table KNA1\n",
      "The union statement has been saved in the global data job \"Unify Tables\" for Table KNB1\n",
      "The union statement has been saved in the global data job \"Unify Tables\" for Table KNB5\n",
      "The union statement has been saved in the global data job \"Unify Tables\" for Table KNKK\n",
      "The union statement has been saved in the global data job \"Unify Tables\" for Table T001\n"
     ]
    }
   ],
   "source": [
    "from _unifier import unify_tables\n",
    "\n",
    "# URL to the Cloud Data Pool where the tables to unify are hosted.\n",
    "url = 'https://bbraun.eu-3.celonis.cloud/integration/ui/pools/d1b99aa8-5ded-4410-b2bc-9659f9d53ba6'\n",
    "\n",
    "# Specify a valid API token for your Cloud Team.\n",
    "api_token = 'MmNjYzZiMzctZDhhOS00ZDRlLTkxZWMtYzg2NDM5NjUzN2E4OkgrSExiaWtiQWsvbWRkOU0zTEltVXlPMmdGUkZLajROa2diYytBVlZXa3lu'\n",
    "\n",
    "# Specify a datapool \n",
    "datapool = 'd1b99aa8-5ded-4410-b2bc-9659f9d53ba6'\n",
    "\n",
    "# Specify the table names for which the tables should be merged. \n",
    "#tables = ['VBEH']\n",
    "\n",
    "tables = ['BKPF','BSEG','KNA1','KNB1','KNB5','KNKK','T001']\n",
    "\n",
    "# Specify 'min' if the unified table should be the minimal column requirement and 'null' if the not existing columns should be filled with null values.\n",
    "function = 'null'\n",
    "\n",
    "# Specify the required table schemas in a python list\n",
    "tableSchema = ['d1b99aa8-5ded-4410-b2bc-9659f9d53ba6_d52c7f88-d09d-406e-930a-bf94a09cdb78', 'd1b99aa8-5ded-4410-b2bc-9659f9d53ba6_8a3688b3-78f2-4ccf-a00f-6ad01ecfd99c', 'd1b99aa8-5ded-4410-b2bc-9659f9d53ba6_43200d69-cf72-4943-a9a0-e849c7c3b1bd', 'd1b99aa8-5ded-4410-b2bc-9659f9d53ba6_507a7454-3f8b-4598-a904-36886f516085' ]\n",
    "\n",
    "unify_tables(url = url, api_token = api_token, datapool = datapool, tables = tables, tableSchema = tableSchema, function = function)"
   ]
  },
  {
   "cell_type": "code",
   "execution_count": null,
   "metadata": {},
   "outputs": [],
   "source": []
  }
 ],
 "metadata": {
  "kernelspec": {
   "display_name": "Python 3",
   "language": "python",
   "name": "python3"
  },
  "language_info": {
   "codemirror_mode": {
    "name": "ipython",
    "version": 3
   },
   "file_extension": ".py",
   "mimetype": "text/x-python",
   "name": "python",
   "nbconvert_exporter": "python",
   "pygments_lexer": "ipython3",
   "version": "3.7.6"
  }
 },
 "nbformat": 4,
 "nbformat_minor": 4
}
