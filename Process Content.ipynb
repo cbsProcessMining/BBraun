{
 "cells": [
  {
   "cell_type": "code",
   "execution_count": 1,
   "metadata": {},
   "outputs": [
    {
     "name": "stdout",
     "output_type": "stream",
     "text": [
      "2021-02-04 10:44:06 - pycelonis: Login successful! Hello Application Key, this key currently has access to 688 analyses.\n"
     ]
    }
   ],
   "source": [
    "# create backup\n",
    "from pycelonis import get_celonis\n",
    "import shutil\n",
    "from pathlib import Path\n",
    "from pycelonis.utils.api_utils import pathify\n",
    "celonis = get_celonis(read_only=True)\n",
    "backup_path = Path('IBC Backup')"
   ]
  },
  {
   "cell_type": "code",
   "execution_count": 2,
   "metadata": {},
   "outputs": [],
   "source": [
    "if not backup_path.exists():\n",
    "    backup_path.mkdir()"
   ]
  },
  {
   "cell_type": "code",
   "execution_count": 3,
   "metadata": {},
   "outputs": [],
   "source": [
    "transformation_path = backup_path / \"Transformations\"\n",
    "if transformation_path.exists():\n",
    "    shutil.rmtree(transformation_path)\n",
    "transformation_path.mkdir()"
   ]
  },
  {
   "cell_type": "code",
   "execution_count": null,
   "metadata": {},
   "outputs": [],
   "source": [
    "\n",
    "for pool in celonis.pools:\n",
    "    pool_path = transformation_path / pathify(pool.name)\n",
    "    pool_path.mkdir()\n",
    "    for job in pool.data_jobs:\n",
    "        job_path = pool_path / pathify(job.name)\n",
    "        job_path.mkdir()\n",
    "        for tm in job.transformations:\n",
    "            try:\n",
    "                tm.backup_content(job_path)\n",
    "            except:\n",
    "                pass"
   ]
  },
  {
   "cell_type": "code",
   "execution_count": null,
   "metadata": {},
   "outputs": [],
   "source": []
  },
  {
   "cell_type": "code",
   "execution_count": 1,
   "metadata": {},
   "outputs": [
    {
     "name": "stdout",
     "output_type": "stream",
     "text": [
      "The following list of files will be zipped:\n",
      "CBS/AR_Activity.sql\n",
      "CBS/AP_Activity.sql\n",
      "CBS/AP_Total.sql\n",
      "CBS/AR_Total.sql\n",
      "CBS.zip file is created successfully!\n"
     ]
    }
   ],
   "source": [
    "#zip IBC Backup content\n",
    "\n",
    "\n",
    "# import required modules\n",
    " \n",
    "import os\n",
    "import zipfile\n",
    " \n",
    " \n",
    "# Declare the function to return all file paths of the particular directory\n",
    "def retrieve_file_paths(dirName):\n",
    " \n",
    "  # setup file paths variable\n",
    "  filePaths = []\n",
    "   \n",
    "  # Read all directory, subdirectories and file lists\n",
    "  for root, directories, files in os.walk(dirName):\n",
    "    for filename in files:\n",
    "        # Create the full filepath by using os module.\n",
    "        filePath = os.path.join(root, filename)\n",
    "        filePaths.append(filePath)\n",
    "         \n",
    "  # return all paths\n",
    "  return filePaths\n",
    " \n",
    " \n",
    "# Declare the main function\n",
    "def main():\n",
    "# Assign the name of the directory to zip\n",
    "  dir_name = 'CBS'\n",
    "   \n",
    "  # Call the function to retrieve all files and folders of the assigned directory\n",
    "  filePaths = retrieve_file_paths(dir_name)\n",
    "   \n",
    "  # printing the list of all files to be zipped\n",
    "  print('The following list of files will be zipped:')\n",
    "  for fileName in filePaths:\n",
    "    print(fileName)\n",
    "     \n",
    "  # writing files to a zipfile\n",
    "  zip_file = zipfile.ZipFile(dir_name+'.zip', 'w')\n",
    "  with zip_file:\n",
    "    # writing each file one by one\n",
    "    for file in filePaths:\n",
    "      zip_file.write(file)\n",
    "       \n",
    "  print(dir_name+'.zip file is created successfully!')\n",
    "   \n",
    "# Call the main function\n",
    "if __name__ == \"__main__\":\n",
    "  main()"
   ]
  },
  {
   "cell_type": "code",
   "execution_count": null,
   "metadata": {},
   "outputs": [],
   "source": []
  },
  {
   "cell_type": "code",
   "execution_count": 9,
   "metadata": {},
   "outputs": [],
   "source": [
    "# pool parameters in script\n",
    "pool = celonis.pools.find('d1b99aa8-5ded-4410-b2bc-9659f9d53ba6')\n"
   ]
  },
  {
   "cell_type": "code",
   "execution_count": 32,
   "metadata": {},
   "outputs": [
    {
     "data": {
      "text/plain": [
       "[<PoolParameter, id af8e5cf9-bc2e-4834-9535-20dcdb3ad6c0, name CDHDR / CDPOS Objectclas>,\n",
       "<PoolParameter, id 46f0ebaa-e3be-4532-abd1-886c33c28799, name TO_CURRENCY>,\n",
       "<PoolParameter, id 6848513d-d464-4fef-9a6d-c52695603fde, name AP_CDPOS_BSEG>,\n",
       "<PoolParameter, id 2cbd4292-dc47-44df-9307-dd8d14f7e125, name CDPOS_EBAN>,\n",
       "<PoolParameter, id 8ffbd94e-3b27-4451-a9c5-3f5908d22808, name CDPOS_EKKO>,\n",
       "<PoolParameter, id 7595bf4f-0350-42c6-bc0a-eb33c9910dac, name extraction_start_date_string>,\n",
       "<PoolParameter, id 9ff8ccec-3fb1-4ef2-9078-ae15728b8baa, name CDPOS_EKPO>,\n",
       "<PoolParameter, id c4ae8fed-0333-4cbd-ada3-aacde48635a5, name CDPOS_KNB5>,\n",
       "<PoolParameter, id 5b7e297f-3a42-4e6b-9708-1d3c8082f36d, name CDPOS_VBAK>,\n",
       "<PoolParameter, id e21f22dc-99ee-42e8-a063-16ecfdcc2282, name CDPOS_VBAP>,\n",
       "<PoolParameter, id a271d33a-5b5c-492c-81ff-38dbbba1bafb, name CDPOS_VBUK>,\n",
       "<PoolParameter, id c21030f9-4945-4d72-ad70-b9f3d10d1cda, name extraction_start_date_precesesor>,\n",
       "<PoolParameter, id b3af3ce2-e714-4d78-9233-4466e7a4350c, name SOURCE_SAP_SYSTEM_USB>,\n",
       "<PoolParameter, id 198ff41d-25c1-4c6f-be66-f4d2afe588e9, name Filter for BSED on Field KOART>,\n",
       "<PoolParameter, id cd59fc6e-ac1c-445c-be25-67e16d04bc29, name Extraction Start Date>,\n",
       "<PoolParameter, id 10c87ce8-7d0a-46d6-9d90-6062751ce5b6, name Offset Creation Dates Delta>,\n",
       "<PoolParameter, id 40f299da-560f-484e-8ca6-0072aa825ffd, name SOURCE_SAP_SYSTEM_MYA>,\n",
       "<PoolParameter, id 182292b4-61b6-449f-8123-0f97c9d056f1, name SOURCE_SAP_SYSTEM_BRB>,\n",
       "<PoolParameter, id 1cc47a2e-803d-4747-9096-ca2641184219, name SOURCE_SAP_SYSTEM_MYB>,\n",
       "<PoolParameter, id c6190439-0fff-4938-96db-2add2b78b463, name SOURCE_SAP_SYSTEM_DEB>,\n",
       "<PoolParameter, id a2859470-c070-46cb-9c30-66bb4207d9b5, name SPRAS>,\n",
       "<PoolParameter, id cbd6de9f-abaf-4662-ab18-4a1b9010cd3d, name KURST>,\n",
       "<PoolParameter, id 4f45ac13-a45e-44a4-8135-a79057973eb3, name SOURCE_SAP_SYSTEM_DEA>,\n",
       "<PoolParameter, id fb95edad-3964-40ff-ad0e-cb583073916b, name SOURCE_SAP_SYSTEM_BRA>,\n",
       "<PoolParameter, id a9e6f6c1-02f4-4b73-b9a6-9c67f98b1229, name SOURCE_SAP_SYSTEM_USA>,\n",
       "<PoolParameter, id acf2e7d8-bacc-40ff-9eba-8c69e82ebbe2, name AP_BSEG_BSCHL>,\n",
       "<PoolParameter, id 404a2252-0930-4953-93e3-2884a5c66442, name O2C_doc_category_quote>,\n",
       "<PoolParameter, id 3cb1ce13-5dc8-46f6-b372-78155c77c13c, name O2C_doc_category_cases>,\n",
       "<PoolParameter, id eee7e25f-c273-4357-9bc6-09126db596e4, name Start Date>,\n",
       "<PoolParameter, id 69accd4f-edf4-4324-94c6-30275cf7d1f3, name primaryLanguageKey>,\n",
       "<PoolParameter, id 20f655aa-ba32-4e65-819f-52c3ac7947ee, name currency>,\n",
       "<PoolParameter, id dc8e1a47-9839-4200-9060-95a8d7cb080f, name exchangeRateType>,\n",
       "<PoolParameter, id 4f2c93c8-41bc-4d2f-b619-95e27098d17a, name wm_START_YEAR_TRANSPORT_ORDERS>,\n",
       "<PoolParameter, id 2c2e0fb0-4160-4340-8ec5-69dac51f0db3, name wm_orderCategories>,\n",
       "<PoolParameter, id 7809936a-2524-4e39-b147-f1bd71245032, name predecessor_date>,\n",
       "<PoolParameter, id 8d19ba1e-10b9-49d1-928d-ca8351ff73ea, name wm_fiscalYears>,\n",
       "<PoolParameter, id 132556b1-62ac-42f8-b0d5-57ce1d59ab66, name wm_TABNAME>,\n",
       "<PoolParameter, id 42157e01-69bd-4295-a922-d9bba4e5d965, name wm_itemCategoriesWarehouse>,\n",
       "<PoolParameter, id 59822263-e6bf-4323-b998-13803cb9987d, name wm_itemCategoriesProcurement>,\n",
       "<PoolParameter, id 371fc257-1d44-454d-a6aa-1853bd52e77e, name wm_itemCategoriesProduction>,\n",
       "<PoolParameter, id 2d924307-0136-4b18-a49f-e9578caca814, name wm_itemCategoriesWarehouseOrder>,\n",
       "<PoolParameter, id 096efd43-7a57-456c-8706-16908bcebf6f, name availLanguageKeys>,\n",
       "<PoolParameter, id 45617868-e955-42c6-8055-cb1949bcbd74, name pp-ORDER CATEGORY>,\n",
       "<PoolParameter, id eea57b22-f357-4054-ba1f-49e5fb10a168, name wm_StockTransferOrders>,\n",
       "<PoolParameter, id 3b118f83-cde5-4944-b170-241abe7031ca, name wm_primaryLanguageKey>,\n",
       "<PoolParameter, id f633385a-dd15-489f-841e-bbdcb68888c6, name qm_notification_types>,\n",
       "<PoolParameter, id 77fe82ec-ff8d-4b25-be8b-22a5451895c1, name AR_posting_keys>,]"
      ]
     },
     "execution_count": 32,
     "metadata": {},
     "output_type": "execute_result"
    }
   ],
   "source": [
    "import pandas as pd\n",
    "import re\n",
    "pool.variables\n"
   ]
  },
  {
   "cell_type": "code",
   "execution_count": 213,
   "metadata": {},
   "outputs": [],
   "source": [
    "# dynamically gerneration of the relevant information\n",
    "df = []\n",
    "for k in pool.variables:\n",
    "    var = str(k)\n",
    "    var_id = re.findall(\"[a-f0-9]{8}-[a-f0-9]{4}-[a-f0-9]{4}-[a-f0-9]{4}-[a-f0-9]{12}\", var)\n",
    "    id = var_id[0]\n",
    "    parm = pool.variables.find(id)\n",
    "    \n",
    "    result = {'name': '','placeholder': '', 'dataType':'', 'values':''}\n",
    "    help = []\n",
    "    for j in result:\n",
    "        key = j\n",
    "        help = []\n",
    "        # help list\n",
    "        if key == 'values':\n",
    "            help = [i['value']  for i in parm.data[key] if key == 'values']\n",
    "        else:\n",
    "            help = parm.data[key]\n",
    "        result[key] = help \n",
    "    #result[k] = [i[k] for i in parm.data[k]]\n",
    "    df.append(result)\n",
    "\n",
    "        \n",
    "    \n",
    "    "
   ]
  },
  {
   "cell_type": "code",
   "execution_count": 216,
   "metadata": {},
   "outputs": [],
   "source": [
    "# write it into the CSV File\n",
    "import csv\n",
    "keys = df[0].keys()\n",
    "with open('Parameter.csv', 'w', newline='')  as output_file:\n",
    "    dict_writer = csv.DictWriter(output_file, keys)\n",
    "    dict_writer.writeheader()\n",
    "    dict_writer.writerows(df)"
   ]
  },
  {
   "cell_type": "code",
   "execution_count": null,
   "metadata": {},
   "outputs": [],
   "source": []
  },
  {
   "cell_type": "code",
   "execution_count": null,
   "metadata": {},
   "outputs": [],
   "source": [
    "# get dataframe for anonymization"
   ]
  },
  {
   "cell_type": "code",
   "execution_count": 2,
   "metadata": {},
   "outputs": [
    {
     "name": "stdout",
     "output_type": "stream",
     "text": [
      "2021-01-21 10:17:26 - pycelonis: Login successful! Hello Application Key, this key currently has access to 679 analyses.\n"
     ]
    },
    {
     "data": {
      "text/plain": [
       "[<DataConnection, id 507a7454-3f8b-4598-a904-36886f516085, name USB>,\n",
       "<DataConnection, id 43200d69-cf72-4943-a9a0-e849c7c3b1bd, name MYB>,\n",
       "<DataConnection, id 8a3688b3-78f2-4ccf-a00f-6ad01ecfd99c, name BRB>,\n",
       "<DataConnection, id 26da4b43-22f6-428f-b1e1-f25234904108, name USB-Test>,\n",
       "<DataConnection, id d52c7f88-d09d-406e-930a-bf94a09cdb78, name DEB>,\n",
       "<DataConnection, id a52ba2b3-224d-4fb9-bcb1-e25dff382bde, name DEB - test>,\n",
       "<DataConnection, id b38be222-b287-48e9-a743-f799ed8ae560, name DEA>,\n",
       "<DataConnection, id 272a6a8b-f885-427f-a20f-4f2bcbc0aa62, name USA>,\n",
       "<DataConnection, id 5299a972-b4e0-42f8-bb3d-d293210291d8, name MYA>,\n",
       "<DataConnection, id 366e11f3-c369-4b0e-bc4d-2cba64ee21ec, name BRA>,]"
      ]
     },
     "execution_count": 2,
     "metadata": {},
     "output_type": "execute_result"
    }
   ],
   "source": [
    "from pycelonis import get_celonis\n",
    "import pandas as pd\n",
    "url = 'https://bbraun.eu-3.celonis.cloud/'\n",
    "api_token = 'Y2Q5NWY1ZTctZDk2YS00YWNlLWIwNWEtOGVmYTdiYzg3YTA4OnZKcGxjaEluTUtkSmIvbXZZdk40YnczdFU3UUJKTXJ5MllpQ2xLdGhCRHFJ'\n",
    "celonis = get_celonis()\n",
    "pool = celonis.pools.find('d1b99aa8-5ded-4410-b2bc-9659f9d53ba6')\n",
    "pool.data_connections\n",
    "\n"
   ]
  },
  {
   "cell_type": "code",
   "execution_count": null,
   "metadata": {},
   "outputs": [],
   "source": [
    "pool = celonis.pools.find('d1b99aa8-5ded-4410-b2bc-9659f9d53ba6')"
   ]
  },
  {
   "cell_type": "code",
   "execution_count": null,
   "metadata": {},
   "outputs": [],
   "source": []
  }
 ],
 "metadata": {
  "kernelspec": {
   "display_name": "Python 3",
   "language": "python",
   "name": "python3"
  },
  "language_info": {
   "codemirror_mode": {
    "name": "ipython",
    "version": 3
   },
   "file_extension": ".py",
   "mimetype": "text/x-python",
   "name": "python",
   "nbconvert_exporter": "python",
   "pygments_lexer": "ipython3",
   "version": "3.7.6"
  }
 },
 "nbformat": 4,
 "nbformat_minor": 4
}
