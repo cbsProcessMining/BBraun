{
 "cells": [
  {
   "cell_type": "markdown",
   "metadata": {},
   "source": [
    "## Analysis Mover"
   ]
  },
  {
   "cell_type": "markdown",
   "metadata": {},
   "source": [
    "**This tutorial shows how to copy an analysis from one team/ workspace to another one, independent of the cluster.**\n",
    "\n"
   ]
  },
  {
   "cell_type": "markdown",
   "metadata": {},
   "source": [
    "**To do so we first need to connect to the source analysis.**\n",
    "**It is recommended to use the ID of the respective analysis.**"
   ]
  },
  {
   "cell_type": "code",
   "execution_count": 8,
   "metadata": {},
   "outputs": [
    {
     "name": "stdout",
     "output_type": "stream",
     "text": [
      "2020-09-17 19:49:05 - pycelonis: Login successful! Hello Willy Thich\n"
     ]
    }
   ],
   "source": [
    "from pycelonis import get_celonis\n",
    "import os\n",
    "\n",
    "c_source = get_celonis(\"IBC_URL\", \"API_KEY\")\n",
    "source_analysis = c_source.analyses.find(\"4b1374e3-a384-4a5e-8a05-3f8c516d0708\")"
   ]
  },
  {
   "cell_type": "markdown",
   "metadata": {},
   "source": [
    "**In the next step we connect to the target workspace.**"
   ]
  },
  {
   "cell_type": "code",
   "execution_count": 9,
   "metadata": {},
   "outputs": [
    {
     "name": "stdout",
     "output_type": "stream",
     "text": [
      "2020-09-17 19:49:06 - pycelonis: Login successful! Hello Willy Thich\n"
     ]
    }
   ],
   "source": [
    "c_target = get_celonis(\"https://bbraun.eu-3.celonis.cloud/\", \"MzJlM2FiNmQtODRhZS00OTQ0LTlkNTEtMzg3ZjdkOGFjZTFjOjFXNTNnaUJ6YVdDbkdlQUFTUTZsa0JNOER4dUJ4Q3pyanJPUXNONmFwQU1p\")\n",
    "workspace = c_target.workspaces.find(\"9f987640-3d45-4eb0-8ac5-bc84431660e3\")"
   ]
  },
  {
   "cell_type": "markdown",
   "metadata": {},
   "source": [
    "**Now we will copy and paste the analysis. The last lines serve to delete the saved copy again.**"
   ]
  },
  {
   "cell_type": "code",
   "execution_count": 10,
   "metadata": {},
   "outputs": [
    {
     "name": "stdout",
     "output_type": "stream",
     "text": [
      "Congrats you copied the analysis 01 - Automation Dashboard!\n"
     ]
    }
   ],
   "source": [
    "path = source_analysis.backup_content()\n",
    "analysis = workspace.create_analysis(\"temp\", path)\n",
    "if os.path.isfile(path):\n",
    "    os.remove(path)\n",
    "print(\"Congrats you copied the analysis \"+ source_analysis.name + \"!\")"
   ]
  },
  {
   "cell_type": "code",
   "execution_count": null,
   "metadata": {},
   "outputs": [],
   "source": []
  }
 ],
 "metadata": {
  "jupytext": {
   "formats": "ipynb,py:percent"
  },
  "kernelspec": {
   "display_name": "Python 3",
   "language": "python",
   "name": "python3"
  },
  "language_info": {
   "codemirror_mode": {
    "name": "ipython",
    "version": 3
   },
   "file_extension": ".py",
   "mimetype": "text/x-python",
   "name": "python",
   "nbconvert_exporter": "python",
   "pygments_lexer": "ipython3",
   "version": "3.7.6"
  }
 },
 "nbformat": 4,
 "nbformat_minor": 4
}
