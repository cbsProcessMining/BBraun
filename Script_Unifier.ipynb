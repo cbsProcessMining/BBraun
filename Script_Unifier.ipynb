{
 "cells": [
  {
   "cell_type": "code",
   "execution_count": 53,
   "metadata": {},
   "outputs": [
    {
     "name": "stdout",
     "output_type": "stream",
     "text": [
      "Looking in indexes: https://pypi.celonis.cloud, https://pypi.org/simple\n",
      "Requirement already satisfied: ftfy in /home/jovyan/.local/lib/python3.7/site-packages (5.8)\n",
      "Requirement already satisfied: wcwidth in /opt/conda/lib/python3.7/site-packages (from ftfy) (0.2.4)\n",
      "\u001b[33mWARNING: You are using pip version 20.1.1; however, version 21.0.1 is available.\n",
      "You should consider upgrading via the '/opt/conda/bin/python -m pip install --upgrade pip' command.\u001b[0m\n",
      "Note: you may need to restart the kernel to use updated packages.\n"
     ]
    }
   ],
   "source": [
    "pip install ftfy\n",
    "from pycelonis import get_celonis\n",
    "import os\n",
    "from ftfy import fix_text #requires pip install\n",
    "url = 'https://endresshauser.eu-3.celonis.cloud/'\n",
    "\n",
    "# Specify a valid API token for your Cloud Team.\n",
    "#Click on Team Settings -> Edit -> create or copy already inserted API key\n",
    "\n",
    "api_token = 'NDEzZDFkN2YtZjVmZC00MTE0LTg2ODAtNmZlZDM5YzU5YTEwOjBxR0xOSFhjdDQ4MFNDc0V1UDIwbldzNWd2VXFVeUZieCt5MjdzbUhySkRP'\n",
    "c = get_celonis(url,api_token)\n",
    "#loop over all entries of the datapools\n",
    "for i in c.pools:\n",
    "    #loop over all entries in the datajobs\n",
    "    for j in i.data_jobs:\n",
    "        #check if the Name Transformation is in the job\n",
    "        if 'Transformation' in j.name:\n",
    "            sql = ''\n",
    "            for transformation in j.transformations.data:\n",
    "                # check if statement is empty\n",
    "                if transformation.statement is None:\n",
    "                    continue\n",
    "                # check if the transformation task is enabled     \n",
    "                if transformation.data['disabled'] == True:\n",
    "                    continue\n",
    "                # write everything in the sql variable    \n",
    "                sql = sql + '--###' + transformation.name + '###--' + '\\n\\n' + transformation.statement.strip() + '\\n\\n'\n",
    "            # create file path object, the files left\n",
    "            filepath = os.path.join('', i.name + ' '+ j.name + '.sql')\n",
    "            # if file arleady exists -> delte it\n",
    "            if os.path.exists(filepath):\n",
    "                  os.remove(filepath)\n",
    "            #write the sql object into the file \n",
    "            with open(filepath, 'w') as f:\n",
    "                f.write(fix_text(sql))"
   ]
  }
 ],
 "metadata": {
  "kernelspec": {
   "display_name": "Python 3",
   "language": "python",
   "name": "python3"
  },
  "language_info": {
   "codemirror_mode": {
    "name": "ipython",
    "version": 3
   },
   "file_extension": ".py",
   "mimetype": "text/x-python",
   "name": "python",
   "nbconvert_exporter": "python",
   "pygments_lexer": "ipython3",
   "version": "3.7.6"
  }
 },
 "nbformat": 4,
 "nbformat_minor": 4
}
