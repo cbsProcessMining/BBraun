{
 "cells": [
  {
   "cell_type": "code",
   "execution_count": 1,
   "metadata": {},
   "outputs": [
    {
     "name": "stdout",
     "output_type": "stream",
     "text": [
      "Looking in indexes: https://pypi.celonis.cloud, https://pypi.org/simple\n",
      "Collecting ftfy\n",
      "  Downloading ftfy-5.8.tar.gz (64 kB)\n",
      "\u001b[K     |████████████████████████████████| 64 kB 396 kB/s eta 0:00:011\n",
      "\u001b[?25hRequirement already satisfied: wcwidth in /opt/conda/lib/python3.7/site-packages (from ftfy) (0.2.4)\n",
      "Building wheels for collected packages: ftfy\n",
      "  Building wheel for ftfy (setup.py) ... \u001b[?25ldone\n",
      "\u001b[?25h  Created wheel for ftfy: filename=ftfy-5.8-py3-none-any.whl size=45612 sha256=357328bae084e0086fe47361fffdcf6aca240620750fe12c8369ee4ea5bf1606\n",
      "  Stored in directory: /home/jovyan/.cache/pip/wheels/49/1c/fc/8b19700f939810cd8fd9495ae34934b246279791288eda1c31\n",
      "Successfully built ftfy\n",
      "Installing collected packages: ftfy\n",
      "Successfully installed ftfy-5.8\n",
      "\u001b[33mWARNING: You are using pip version 20.1.1; however, version 21.0.1 is available.\n",
      "You should consider upgrading via the '/opt/conda/bin/python -m pip install --upgrade pip' command.\u001b[0m\n",
      "Note: you may need to restart the kernel to use updated packages.\n"
     ]
    }
   ],
   "source": [
    "pip install ftfy"
   ]
  },
  {
   "cell_type": "code",
   "execution_count": 2,
   "metadata": {},
   "outputs": [],
   "source": [
    "from pycelonis import get_celonis\n",
    "import os\n",
    "from ftfy import fix_text #requires pip install"
   ]
  },
  {
   "cell_type": "code",
   "execution_count": 3,
   "metadata": {},
   "outputs": [
    {
     "name": "stdout",
     "output_type": "stream",
     "text": [
      "2021-02-05 09:55:20 - pycelonis: Login successful! The Application Key currently has access to 29 Analyses and to 4 Data Pools.\n",
      "2021-02-05 09:55:20 - pycelonis: Your PyCelonis Version 1.4.1 is outdated (Newest Version: 1.5). Please upgrade the package via: pip install --extra-index-url=https://pypi.celonis.cloud/ pycelonis --upgrade\n"
     ]
    }
   ],
   "source": [
    "c = get_celonis()"
   ]
  },
  {
   "cell_type": "code",
   "execution_count": 5,
   "metadata": {},
   "outputs": [
    {
     "data": {
      "text/plain": [
       "[<Pool, id e1bd9ca9-9d3b-44b4-9c17-ae345f663e27, name SAP ECC - Purchase to Pay>,\n",
       "<Pool, id 590652c7-87a4-46e6-a9e9-60c90cb7c4e3, name SAP ECC - Production Planning>,\n",
       "<Pool, id 98d9fc62-ccbf-4158-b89f-cb8a7a976a2d, name SAP ECC - Warehouse Management>,\n",
       "<Pool, id 60442433-3dbb-4ce6-8ed3-e9bb7238c614, name SAP ECC - Order to Cash>,]"
      ]
     },
     "execution_count": 5,
     "metadata": {},
     "output_type": "execute_result"
    }
   ],
   "source": [
    "# Data pools\n",
    "c.pools"
   ]
  },
  {
   "cell_type": "code",
   "execution_count": 6,
   "metadata": {},
   "outputs": [],
   "source": [
    "# datapool where the unifcation script should be made\n",
    "datapool = c.pools.find('e1bd9ca9-9d3b-44b4-9c17-ae345f663e27') #'id of the datapool'"
   ]
  },
  {
   "cell_type": "code",
   "execution_count": 23,
   "metadata": {},
   "outputs": [
    {
     "data": {
      "text/plain": [
       "'SAP ECC - Purchase to Pay'"
      ]
     },
     "execution_count": 23,
     "metadata": {},
     "output_type": "execute_result"
    }
   ],
   "source": [
    "datapool.name"
   ]
  },
  {
   "cell_type": "code",
   "execution_count": 9,
   "metadata": {},
   "outputs": [
    {
     "data": {
      "text/plain": [
       "[<DataJob, id 72e2084e-37d3-4a15-8df7-11db169721fe, name PS1 036 - SAP P2P Extractions Full Load>,\n",
       "<DataJob, id 91cb9d68-3606-4bbe-b9b8-b2d6ab847569, name PS1 007 - SAP P2P Extractions Full Load>,\n",
       "<DataJob, id a3803d3c-90b6-4037-8aca-e60ea5288851, name PSG 049 - SAP P2P Extractions Full Load>,\n",
       "<DataJob, id 7aaf649d-b983-4117-a08c-807df18abbcd, name PS1 090 - SAP P2P Extractions Full Load>,\n",
       "<DataJob, id 8b7149bc-fa8e-441f-92de-a08bfde2a7dd, name PP2 004 - SAP P2P Extractions Full Load>,\n",
       "<DataJob, id 57efde1b-c94d-45be-8d88-0857c6c5a38c, name Transformation>,\n",
       "<DataJob, id 37a09d06-31c6-4daf-8e52-7b85757ee686, name PP1 011 - SAP P2P Extractions Full Load>,\n",
       "<DataJob, id 8fd7a381-cba0-43d4-9cbf-4c3cb34dc5b8, name PS1 044 - SAP P2P Extractions Full Load>,\n",
       "<DataJob, id 9618d514-360d-4f6e-9573-76a8e9a2663a, name PSG 048 - SAP P2P Extractions Full Load>,\n",
       "<DataJob, id c4fe57b2-050d-419b-865a-57fd262b2972, name PS1 038 - SAP P2P Extractions Full Load>,\n",
       "<DataJob, id 6f9189dc-6aba-4e47-87a2-7e2788c8fea1, name PCA 042 - SAP P2P Extractions Full Load>,\n",
       "<DataJob, id f2c95a3a-0f77-480f-8207-defa4e91970d, name PSG 045 - SAP P2P Extractions Full Load>,\n",
       "<DataJob, id 1d06bcaf-a31c-4208-8c57-9bba844012e2, name PS1 040 - SAP P2P Extractions Full Load>,\n",
       "<DataJob, id 87838ea9-17a0-4322-a8e2-a76fa3175bd1, name PS1 035 - SAP P2P Extractions Full Load>,\n",
       "<DataJob, id 24b64910-0187-434f-86e1-1ba05c0778ff, name PS1 033 - SAP P2P Extractions Full Load>,\n",
       "<DataJob, id 4acc8604-2af1-4085-9aaf-8a42c1167972, name PS1 030 - SAP P2P Extractions Full Load>,\n",
       "<DataJob, id ccd1ef74-95f7-4bc2-ab1e-5f6b41d105b2, name PP2 005 - SAP P2P Extractions Full Load>,\n",
       "<DataJob, id cb4b06ca-6369-4ec0-b13c-f30177a4197c, name PIN 024 - SAP P2P Extractions Full Load>,\n",
       "<DataJob, id 8281d5b3-53ac-49cf-96fa-f4aed72f463d, name PS1 032 - SAP P2P Extractions Full Load>,\n",
       "<DataJob, id b41b83b5-3b8c-4520-bbb9-5595c588e9fc, name PS1 039 - SAP P2P Extractions Full Load>,\n",
       "<DataJob, id cc2ae6c3-c1c9-4037-9a4b-fff00099262e, name PIN 020 - SAP P2P Extractions Full Load>,\n",
       "<DataJob, id 738c7282-e815-467d-a525-a8e6070d8c38, name PCA 042 Local Test/Check>,\n",
       "<DataJob, id a5369a06-1ca6-4d57-ab1d-f2ef9454b187, name Unify Tables>,]"
      ]
     },
     "execution_count": 9,
     "metadata": {},
     "output_type": "execute_result"
    }
   ],
   "source": [
    "datapool.data_jobs"
   ]
  },
  {
   "cell_type": "code",
   "execution_count": 10,
   "metadata": {},
   "outputs": [],
   "source": [
    "datajob = datapool.data_jobs.find('57efde1b-c94d-45be-8d88-0857c6c5a38c')"
   ]
  },
  {
   "cell_type": "code",
   "execution_count": 18,
   "metadata": {},
   "outputs": [
    {
     "data": {
      "text/plain": [
       "True"
      ]
     },
     "execution_count": 18,
     "metadata": {},
     "output_type": "execute_result"
    }
   ],
   "source": [
    "datajob.transformations.find('1c0db7b2-cdd3-4e33-b419-b0361349bb66').data['disabled']"
   ]
  },
  {
   "cell_type": "code",
   "execution_count": 16,
   "metadata": {},
   "outputs": [],
   "source": [
    "transformation = datajob.transformations"
   ]
  },
  {
   "cell_type": "code",
   "execution_count": null,
   "metadata": {},
   "outputs": [],
   "source": [
    "#transformation where you want to unify all the scripts "
   ]
  },
  {
   "cell_type": "code",
   "execution_count": 20,
   "metadata": {},
   "outputs": [
    {
     "name": "stdout",
     "output_type": "stream",
     "text": [
      "2021-02-05 10:43:50 - pycelonis: Login successful! The Application Key currently has access to 29 Analyses and to 4 Data Pools.\n",
      "2021-02-05 10:43:50 - pycelonis: Your PyCelonis Version 1.4.1 is outdated (Newest Version: 1.5). Please upgrade the package via: pip install --extra-index-url=https://pypi.celonis.cloud/ pycelonis --upgrade\n"
     ]
    }
   ],
   "source": [
    "from pycelonis import get_celonis\n",
    "import os\n",
    "from ftfy import fix_text #requires pip install\n",
    "\n",
    "c = get_celonis()\n",
    "data_pool = c.pools.find(\"e1bd9ca9-9d3b-44b4-9c17-ae345f663e27\")\n",
    "data_job = data_pool.data_jobs.find(\"57efde1b-c94d-45be-8d88-0857c6c5a38c\")"
   ]
  },
  {
   "cell_type": "code",
   "execution_count": 21,
   "metadata": {},
   "outputs": [],
   "source": [
    "sql = ''\n",
    "for transformation in data_job.transformations.data:\n",
    "    if transformation.statement is None:\n",
    "        continue\n",
    "    if transformation.data['disabled'] == True:\n",
    "        continue\n",
    "    sql = sql + '--###' + transformation.name + '###--' + '\\n\\n' + transformation.statement.strip() + '\\n\\n'"
   ]
  },
  {
   "cell_type": "code",
   "execution_count": 24,
   "metadata": {},
   "outputs": [],
   "source": [
    "filepath = os.path.join('', datapool.name + ' '+ data_job.name + '.sql')\n",
    "with open(filepath, 'w') as f:\n",
    "    f.write(fix_text(sql))"
   ]
  }
 ],
 "metadata": {
  "kernelspec": {
   "display_name": "Python 3",
   "language": "python",
   "name": "python3"
  },
  "language_info": {
   "codemirror_mode": {
    "name": "ipython",
    "version": 3
   },
   "file_extension": ".py",
   "mimetype": "text/x-python",
   "name": "python",
   "nbconvert_exporter": "python",
   "pygments_lexer": "ipython3",
   "version": "3.7.6"
  }
 },
 "nbformat": 4,
 "nbformat_minor": 4
}
